{
  "cells": [
    {
      "cell_type": "code",
      "execution_count": null,
      "metadata": {
        "id": "JUK-ViMIcIV7"
      },
      "outputs": [],
      "source": [
        "# checking of python version\n",
        "\n",
        "import sys\n",
        "print(sys.version)"
      ]
    },
    {
      "cell_type": "code",
      "source": [
        "# mount your google drive so that experiment logs can be saved\n",
        "\n",
        "from google.colab import drive\n",
        "drive.mount('/content/drive')"
      ],
      "metadata": {
        "id": "wKoewa-8ld5f"
      },
      "execution_count": null,
      "outputs": []
    },
    {
      "cell_type": "markdown",
      "metadata": {
        "id": "pCEdk0VmLcZQ"
      },
      "source": [
        "# **Julia Installation**"
      ]
    },
    {
      "cell_type": "code",
      "execution_count": null,
      "metadata": {
        "id": "78ndkzVAV3fr",
        "colab": {
          "base_uri": "https://localhost:8080/"
        },
        "outputId": "3d0e441d-9443-44dd-c741-0ad4b2a244b0"
      },
      "outputs": [
        {
          "output_type": "stream",
          "name": "stdout",
          "text": [
            "Installing Julia 1.8.2 on the current Colab Runtime...\n",
            "2024-12-26 14:38:09 URL:https://storage.googleapis.com/julialang2/bin/linux/x64/1.8/julia-1.8.2-linux-x86_64.tar.gz [135859273/135859273] -> \"/tmp/julia.tar.gz\" [1]\n",
            "Installing Julia package IJulia...\n",
            "Installing Julia package BenchmarkTools...\n",
            "Installing IJulia kernel...\n",
            "\u001b[36m\u001b[1m[ \u001b[22m\u001b[39m\u001b[36m\u001b[1mInfo: \u001b[22m\u001b[39mInstalling julia kernelspec in /root/.local/share/jupyter/kernels/julia-1.8\n",
            "\n",
            "Successfully installed julia version 1.8.2!\n",
            "Please reload this page (press Ctrl+R, ⌘+R, or the F5 key) then\n",
            "jump to the 'Checking the Installation' section.\n"
          ]
        },
        {
          "output_type": "execute_result",
          "data": {
            "text/plain": []
          },
          "metadata": {},
          "execution_count": 3
        }
      ],
      "source": [
        "# this notebook will require installation of Julia\n",
        "\n",
        "%%shell\n",
        "set -e\n",
        "\n",
        "#---------------------------------------------------#\n",
        "JULIA_VERSION=\"1.8.2\" # any version ≥ 0.7.0, julia version must be the same in order to produce reproduciable results\n",
        "JULIA_PACKAGES=\"IJulia BenchmarkTools\"\n",
        "JULIA_PACKAGES_IF_GPU=\"CUDA\" # or CuArrays for older Julia versions\n",
        "JULIA_NUM_THREADS=2\n",
        "#---------------------------------------------------#\n",
        "\n",
        "if [ -z `which julia` ]; then\n",
        "  # Install Julia\n",
        "  JULIA_VER=`cut -d '.' -f -2 <<< \"$JULIA_VERSION\"`\n",
        "  echo \"Installing Julia $JULIA_VERSION on the current Colab Runtime...\"\n",
        "  BASE_URL=\"https://julialang-s3.julialang.org/bin/linux/x64\"\n",
        "  URL=\"$BASE_URL/$JULIA_VER/julia-$JULIA_VERSION-linux-x86_64.tar.gz\"\n",
        "  wget -nv $URL -O /tmp/julia.tar.gz # -nv means \"not verbose\"\n",
        "  tar -x -f /tmp/julia.tar.gz -C /usr/local --strip-components 1\n",
        "  rm /tmp/julia.tar.gz\n",
        "\n",
        "  # Install Packages\n",
        "  nvidia-smi -L &> /dev/null && export GPU=1 || export GPU=0\n",
        "  if [ $GPU -eq 1 ]; then\n",
        "    JULIA_PACKAGES=\"$JULIA_PACKAGES $JULIA_PACKAGES_IF_GPU\"\n",
        "  fi\n",
        "  for PKG in `echo $JULIA_PACKAGES`; do\n",
        "    echo \"Installing Julia package $PKG...\"\n",
        "    julia -e 'using Pkg; pkg\"add '$PKG'; precompile;\"' &> /dev/null\n",
        "  done\n",
        "\n",
        "  # Install kernel and rename it to \"julia\"\n",
        "  echo \"Installing IJulia kernel...\"\n",
        "  julia -e 'using IJulia; IJulia.installkernel(\"julia\", env=Dict(\n",
        "      \"JULIA_NUM_THREADS\"=>\"'\"$JULIA_NUM_THREADS\"'\"))'\n",
        "  KERNEL_DIR=`julia -e \"using IJulia; print(IJulia.kerneldir())\"`\n",
        "  KERNEL_NAME=`ls -d \"$KERNEL_DIR\"/julia*`\n",
        "  mv -f $KERNEL_NAME \"$KERNEL_DIR\"/julia\n",
        "\n",
        "  echo ''\n",
        "  echo \"Successfully installed `julia -v`!\"\n",
        "  echo \"Please reload this page (press Ctrl+R, ⌘+R, or the F5 key) then\"\n",
        "  echo \"jump to the 'Checking the Installation' section.\"\n",
        "fi"
      ]
    },
    {
      "cell_type": "markdown",
      "metadata": {
        "id": "7W94Ew28Glv3"
      },
      "source": [
        "# **Commands to get information newely installed Julia**"
      ]
    },
    {
      "cell_type": "code",
      "execution_count": 1,
      "metadata": {
        "colab": {
          "base_uri": "https://localhost:8080/"
        },
        "id": "EEzvvzCl1i0F",
        "outputId": "37cd47c9-8fb8-4f26-df33-b9ce2aa7ef18"
      },
      "outputs": [
        {
          "output_type": "stream",
          "name": "stdout",
          "text": [
            "Julia Version 1.8.2\n",
            "Commit 36034abf260 (2022-09-29 15:21 UTC)\n",
            "Platform Info:\n",
            "  OS: Linux (x86_64-linux-gnu)\n",
            "  CPU: 2 × Intel(R) Xeon(R) CPU @ 2.20GHz\n",
            "  WORD_SIZE: 64\n",
            "  LIBM: libopenlibm\n",
            "  LLVM: libLLVM-13.0.1 (ORCJIT, broadwell)\n",
            "  Threads: 2 on 2 virtual cores\n",
            "Environment:\n",
            "  LD_LIBRARY_PATH = /usr/local/nvidia/lib:/usr/local/nvidia/lib64\n",
            "  JULIA_NUM_THREADS = 2\n"
          ]
        }
      ],
      "source": [
        "versioninfo()"
      ]
    },
    {
      "cell_type": "code",
      "execution_count": 2,
      "metadata": {
        "id": "YjM_qq54lCcs",
        "colab": {
          "base_uri": "https://localhost:8080/"
        },
        "outputId": "0e407fb6-1ef7-4da0-ca20-4d1587e5cbe7"
      },
      "outputs": [
        {
          "output_type": "stream",
          "name": "stdout",
          "text": [
            "  484.695 ms (2 allocations: 32.00 MiB)\n"
          ]
        }
      ],
      "source": [
        "using BenchmarkTools\n",
        "\n",
        "M = rand(2^11, 2^11)\n",
        "\n",
        "@btime $M * $M;"
      ]
    },
    {
      "cell_type": "code",
      "execution_count": 3,
      "metadata": {
        "id": "XciCcMAJOT3_",
        "colab": {
          "base_uri": "https://localhost:8080/"
        },
        "outputId": "8f8b6bec-7f31-49a4-b3c7-fa7909e07c29"
      },
      "outputs": [
        {
          "output_type": "stream",
          "name": "stdout",
          "text": [
            "No GPU found.\n"
          ]
        }
      ],
      "source": [
        "try\n",
        "    using CUDA\n",
        "catch\n",
        "    println(\"No GPU found.\")\n",
        "else\n",
        "    run(`nvidia-smi`)\n",
        "    # Create a new random matrix directly on the GPU:\n",
        "    M_on_gpu = CUDA.CURAND.rand(2^11, 2^11)\n",
        "    @btime $M_on_gpu * $M_on_gpu; nothing\n",
        "end"
      ]
    },
    {
      "cell_type": "markdown",
      "metadata": {
        "id": "g3fPQnq-Ljdc"
      },
      "source": [
        "# **Installation of required packages**"
      ]
    },
    {
      "cell_type": "code",
      "execution_count": 4,
      "metadata": {
        "id": "LtGwHZKEgubp",
        "colab": {
          "base_uri": "https://localhost:8080/"
        },
        "outputId": "0914632b-60d4-4232-dc8b-adf0560fe757"
      },
      "outputs": [
        {
          "output_type": "stream",
          "name": "stderr",
          "text": [
            "\u001b[32m\u001b[1m    Updating\u001b[22m\u001b[39m registry at `~/.julia/registries/General.toml`\n",
            "\u001b[32m\u001b[1m   Resolving\u001b[22m\u001b[39m package versions...\n",
            "\u001b[32m\u001b[1m   Installed\u001b[22m\u001b[39m IrrationalConstants ───────── v0.2.2\n",
            "\u001b[32m\u001b[1m   Installed\u001b[22m\u001b[39m InputBuffers ──────────────── v1.0.0\n",
            "\u001b[32m\u001b[1m   Installed\u001b[22m\u001b[39m Crayons ───────────────────── v4.1.1\n",
            "\u001b[32m\u001b[1m   Installed\u001b[22m\u001b[39m DiffRules ─────────────────── v1.15.1\n",
            "\u001b[32m\u001b[1m   Installed\u001b[22m\u001b[39m ZipArchives ───────────────── v2.4.0\n",
            "\u001b[32m\u001b[1m   Installed\u001b[22m\u001b[39m EzXML ─────────────────────── v1.2.0\n",
            "\u001b[32m\u001b[1m   Installed\u001b[22m\u001b[39m MutableArithmetics ────────── v1.6.0\n",
            "\u001b[32m\u001b[1m   Installed\u001b[22m\u001b[39m XML2_jll ──────────────────── v2.13.5+0\n",
            "\u001b[32m\u001b[1m   Installed\u001b[22m\u001b[39m ArgCheck ──────────────────── v2.4.0\n",
            "\u001b[32m\u001b[1m   Installed\u001b[22m\u001b[39m TableTraits ───────────────── v1.0.1\n",
            "\u001b[32m\u001b[1m   Installed\u001b[22m\u001b[39m PtrArrays ─────────────────── v1.2.1\n",
            "\u001b[32m\u001b[1m   Installed\u001b[22m\u001b[39m DiffResults ───────────────── v1.1.0\n",
            "\u001b[32m\u001b[1m   Installed\u001b[22m\u001b[39m SpecialFunctions ──────────── v2.5.0\n",
            "\u001b[32m\u001b[1m   Installed\u001b[22m\u001b[39m Bzip2_jll ─────────────────── v1.0.8+3\n",
            "\u001b[32m\u001b[1m   Installed\u001b[22m\u001b[39m CodecBzip2 ────────────────── v0.8.5\n",
            "\u001b[32m\u001b[1m   Installed\u001b[22m\u001b[39m SentinelArrays ────────────── v1.4.8\n",
            "\u001b[32m\u001b[1m   Installed\u001b[22m\u001b[39m Tables ────────────────────── v1.12.0\n",
            "\u001b[32m\u001b[1m   Installed\u001b[22m\u001b[39m PyCall ────────────────────── v1.96.4\n",
            "\u001b[32m\u001b[1m   Installed\u001b[22m\u001b[39m PrettyTables ──────────────── v2.3.2\n",
            "\u001b[32m\u001b[1m   Installed\u001b[22m\u001b[39m DataAPI ───────────────────── v1.16.0\n",
            "\u001b[32m\u001b[1m   Installed\u001b[22m\u001b[39m PooledArrays ──────────────── v1.4.3\n",
            "\u001b[32m\u001b[1m   Installed\u001b[22m\u001b[39m InlineStrings ─────────────── v1.4.2\n",
            "\u001b[32m\u001b[1m   Installed\u001b[22m\u001b[39m ZipFile ───────────────────── v0.10.1\n",
            "\u001b[32m\u001b[1m   Installed\u001b[22m\u001b[39m NaNMath ───────────────────── v1.0.2\n",
            "\u001b[32m\u001b[1m   Installed\u001b[22m\u001b[39m StaticArraysCore ──────────── v1.4.3\n",
            "\u001b[32m\u001b[1m   Installed\u001b[22m\u001b[39m StaticArrays ──────────────── v1.9.9\n",
            "\u001b[32m\u001b[1m   Installed\u001b[22m\u001b[39m IteratorInterfaceExtensions ─ v1.0.0\n",
            "\u001b[32m\u001b[1m   Installed\u001b[22m\u001b[39m Libiconv_jll ──────────────── v1.17.0+1\n",
            "\u001b[32m\u001b[1m   Installed\u001b[22m\u001b[39m DataValueInterfaces ───────── v1.0.0\n",
            "\u001b[32m\u001b[1m   Installed\u001b[22m\u001b[39m JuMP ──────────────────────── v1.23.5\n",
            "\u001b[32m\u001b[1m   Installed\u001b[22m\u001b[39m OrderedCollections ────────── v1.7.0\n",
            "\u001b[32m\u001b[1m   Installed\u001b[22m\u001b[39m WorkerUtilities ───────────── v1.6.1\n",
            "\u001b[32m\u001b[1m   Installed\u001b[22m\u001b[39m CSV ───────────────────────── v0.10.15\n",
            "\u001b[32m\u001b[1m   Installed\u001b[22m\u001b[39m LaTeXStrings ──────────────── v1.4.0\n",
            "\u001b[32m\u001b[1m   Installed\u001b[22m\u001b[39m TranscodingStreams ────────── v0.11.3\n",
            "\u001b[32m\u001b[1m   Installed\u001b[22m\u001b[39m InvertedIndices ───────────── v1.3.1\n",
            "\u001b[32m\u001b[1m   Installed\u001b[22m\u001b[39m FilePathsBase ─────────────── v0.9.22\n",
            "\u001b[32m\u001b[1m   Installed\u001b[22m\u001b[39m ChainRulesCore ────────────── v1.25.0\n",
            "\u001b[32m\u001b[1m   Installed\u001b[22m\u001b[39m Reexport ──────────────────── v1.2.2\n",
            "\u001b[32m\u001b[1m   Installed\u001b[22m\u001b[39m WeakRefStrings ────────────── v1.4.2\n",
            "\u001b[32m\u001b[1m   Installed\u001b[22m\u001b[39m ForwardDiff ───────────────── v0.10.38\n",
            "\u001b[32m\u001b[1m   Installed\u001b[22m\u001b[39m DataFrames ────────────────── v1.7.0\n",
            "\u001b[32m\u001b[1m   Installed\u001b[22m\u001b[39m DataStructures ────────────── v0.18.20\n",
            "\u001b[32m\u001b[1m   Installed\u001b[22m\u001b[39m CommonSubexpressions ──────── v0.3.1\n",
            "\u001b[32m\u001b[1m   Installed\u001b[22m\u001b[39m AliasTables ───────────────── v1.1.3\n",
            "\u001b[32m\u001b[1m   Installed\u001b[22m\u001b[39m LogExpFunctions ───────────── v0.3.28\n",
            "\u001b[32m\u001b[1m   Installed\u001b[22m\u001b[39m StatsAPI ──────────────────── v1.7.0\n",
            "\u001b[32m\u001b[1m   Installed\u001b[22m\u001b[39m MacroTools ────────────────── v0.5.13\n",
            "\u001b[32m\u001b[1m   Installed\u001b[22m\u001b[39m Compat ────────────────────── v4.16.0\n",
            "\u001b[32m\u001b[1m   Installed\u001b[22m\u001b[39m OpenSpecFun_jll ───────────── v0.5.5+1\n",
            "\u001b[32m\u001b[1m   Installed\u001b[22m\u001b[39m CodecZlib ─────────────────── v0.7.6\n",
            "\u001b[32m\u001b[1m   Installed\u001b[22m\u001b[39m InverseFunctions ──────────── v0.1.17\n",
            "\u001b[32m\u001b[1m   Installed\u001b[22m\u001b[39m XLSX ──────────────────────── v0.10.4\n",
            "\u001b[32m\u001b[1m   Installed\u001b[22m\u001b[39m HiGHS_jll ─────────────────── v1.8.1+0\n",
            "\u001b[32m\u001b[1m   Installed\u001b[22m\u001b[39m StringManipulation ────────── v0.3.4\n",
            "\u001b[32m\u001b[1m   Installed\u001b[22m\u001b[39m HiGHS ─────────────────────── v1.12.2\n",
            "\u001b[32m\u001b[1m   Installed\u001b[22m\u001b[39m CodecInflate64 ────────────── v0.1.3\n",
            "\u001b[32m\u001b[1m   Installed\u001b[22m\u001b[39m SortingAlgorithms ─────────── v1.2.1\n",
            "\u001b[32m\u001b[1m   Installed\u001b[22m\u001b[39m Missings ──────────────────── v1.2.0\n",
            "\u001b[32m\u001b[1m   Installed\u001b[22m\u001b[39m ChangesOfVariables ────────── v0.1.9\n",
            "\u001b[32m\u001b[1m   Installed\u001b[22m\u001b[39m StatsBase ─────────────────── v0.34.4\n",
            "\u001b[32m\u001b[1m   Installed\u001b[22m\u001b[39m DocStringExtensions ───────── v0.9.3\n",
            "\u001b[32m\u001b[1m   Installed\u001b[22m\u001b[39m MathOptInterface ──────────── v1.34.0\n",
            "\u001b[32m\u001b[1m    Updating\u001b[22m\u001b[39m `~/.julia/environments/v1.8/Project.toml`\n",
            " \u001b[90m [336ed68f] \u001b[39m\u001b[92m+ CSV v0.10.15\u001b[39m\n",
            " \u001b[90m [a93c6f00] \u001b[39m\u001b[92m+ DataFrames v1.7.0\u001b[39m\n",
            " \u001b[90m [87dc4568] \u001b[39m\u001b[92m+ HiGHS v1.12.2\u001b[39m\n",
            " \u001b[90m [4076af6c] \u001b[39m\u001b[92m+ JuMP v1.23.5\u001b[39m\n",
            " \u001b[90m [438e738f] \u001b[39m\u001b[92m+ PyCall v1.96.4\u001b[39m\n",
            " \u001b[90m [2913bbd2] \u001b[39m\u001b[92m+ StatsBase v0.34.4\u001b[39m\n",
            " \u001b[90m [fdbf4ff8] \u001b[39m\u001b[92m+ XLSX v0.10.4\u001b[39m\n",
            " \u001b[90m [8dfed614] \u001b[39m\u001b[92m+ Test\u001b[39m\n",
            "\u001b[32m\u001b[1m    Updating\u001b[22m\u001b[39m `~/.julia/environments/v1.8/Manifest.toml`\n",
            " \u001b[90m [66dad0bd] \u001b[39m\u001b[92m+ AliasTables v1.1.3\u001b[39m\n",
            " \u001b[90m [dce04be8] \u001b[39m\u001b[92m+ ArgCheck v2.4.0\u001b[39m\n",
            " \u001b[90m [336ed68f] \u001b[39m\u001b[92m+ CSV v0.10.15\u001b[39m\n",
            " \u001b[90m [d360d2e6] \u001b[39m\u001b[92m+ ChainRulesCore v1.25.0\u001b[39m\n",
            " \u001b[90m [9e997f8a] \u001b[39m\u001b[92m+ ChangesOfVariables v0.1.9\u001b[39m\n",
            " \u001b[90m [523fee87] \u001b[39m\u001b[92m+ CodecBzip2 v0.8.5\u001b[39m\n",
            " \u001b[90m [6309b1aa] \u001b[39m\u001b[92m+ CodecInflate64 v0.1.3\u001b[39m\n",
            " \u001b[90m [944b1d66] \u001b[39m\u001b[92m+ CodecZlib v0.7.6\u001b[39m\n",
            " \u001b[90m [bbf7d656] \u001b[39m\u001b[92m+ CommonSubexpressions v0.3.1\u001b[39m\n",
            " \u001b[90m [34da2185] \u001b[39m\u001b[92m+ Compat v4.16.0\u001b[39m\n",
            " \u001b[90m [a8cc5b0e] \u001b[39m\u001b[92m+ Crayons v4.1.1\u001b[39m\n",
            " \u001b[90m [9a962f9c] \u001b[39m\u001b[92m+ DataAPI v1.16.0\u001b[39m\n",
            " \u001b[90m [a93c6f00] \u001b[39m\u001b[92m+ DataFrames v1.7.0\u001b[39m\n",
            " \u001b[90m [864edb3b] \u001b[39m\u001b[92m+ DataStructures v0.18.20\u001b[39m\n",
            " \u001b[90m [e2d170a0] \u001b[39m\u001b[92m+ DataValueInterfaces v1.0.0\u001b[39m\n",
            " \u001b[90m [163ba53b] \u001b[39m\u001b[92m+ DiffResults v1.1.0\u001b[39m\n",
            " \u001b[90m [b552c78f] \u001b[39m\u001b[92m+ DiffRules v1.15.1\u001b[39m\n",
            " \u001b[90m [ffbed154] \u001b[39m\u001b[92m+ DocStringExtensions v0.9.3\u001b[39m\n",
            " \u001b[90m [8f5d6c58] \u001b[39m\u001b[92m+ EzXML v1.2.0\u001b[39m\n",
            " \u001b[90m [48062228] \u001b[39m\u001b[92m+ FilePathsBase v0.9.22\u001b[39m\n",
            " \u001b[90m [f6369f11] \u001b[39m\u001b[92m+ ForwardDiff v0.10.38\u001b[39m\n",
            " \u001b[90m [87dc4568] \u001b[39m\u001b[92m+ HiGHS v1.12.2\u001b[39m\n",
            " \u001b[90m [842dd82b] \u001b[39m\u001b[92m+ InlineStrings v1.4.2\u001b[39m\n",
            " \u001b[90m [0c81fc1b] \u001b[39m\u001b[92m+ InputBuffers v1.0.0\u001b[39m\n",
            " \u001b[90m [3587e190] \u001b[39m\u001b[92m+ InverseFunctions v0.1.17\u001b[39m\n",
            " \u001b[90m [41ab1584] \u001b[39m\u001b[92m+ InvertedIndices v1.3.1\u001b[39m\n",
            " \u001b[90m [92d709cd] \u001b[39m\u001b[92m+ IrrationalConstants v0.2.2\u001b[39m\n",
            " \u001b[90m [82899510] \u001b[39m\u001b[92m+ IteratorInterfaceExtensions v1.0.0\u001b[39m\n",
            " \u001b[90m [4076af6c] \u001b[39m\u001b[92m+ JuMP v1.23.5\u001b[39m\n",
            " \u001b[90m [b964fa9f] \u001b[39m\u001b[92m+ LaTeXStrings v1.4.0\u001b[39m\n",
            "\u001b[33m⌅\u001b[39m\u001b[90m [2ab3a3ac] \u001b[39m\u001b[92m+ LogExpFunctions v0.3.28\u001b[39m\n",
            " \u001b[90m [1914dd2f] \u001b[39m\u001b[92m+ MacroTools v0.5.13\u001b[39m\n",
            " \u001b[90m [b8f27783] \u001b[39m\u001b[92m+ MathOptInterface v1.34.0\u001b[39m\n",
            " \u001b[90m [e1d29d7a] \u001b[39m\u001b[92m+ Missings v1.2.0\u001b[39m\n",
            " \u001b[90m [d8a4904e] \u001b[39m\u001b[92m+ MutableArithmetics v1.6.0\u001b[39m\n",
            " \u001b[90m [77ba4419] \u001b[39m\u001b[92m+ NaNMath v1.0.2\u001b[39m\n",
            " \u001b[90m [bac558e1] \u001b[39m\u001b[92m+ OrderedCollections v1.7.0\u001b[39m\n",
            " \u001b[90m [2dfb63ee] \u001b[39m\u001b[92m+ PooledArrays v1.4.3\u001b[39m\n",
            "\u001b[33m⌅\u001b[39m\u001b[90m [08abe8d2] \u001b[39m\u001b[92m+ PrettyTables v2.3.2\u001b[39m\n",
            " \u001b[90m [43287f4e] \u001b[39m\u001b[92m+ PtrArrays v1.2.1\u001b[39m\n",
            " \u001b[90m [438e738f] \u001b[39m\u001b[92m+ PyCall v1.96.4\u001b[39m\n",
            " \u001b[90m [189a3867] \u001b[39m\u001b[92m+ Reexport v1.2.2\u001b[39m\n",
            " \u001b[90m [91c51154] \u001b[39m\u001b[92m+ SentinelArrays v1.4.8\u001b[39m\n",
            " \u001b[90m [a2af1166] \u001b[39m\u001b[92m+ SortingAlgorithms v1.2.1\u001b[39m\n",
            " \u001b[90m [276daf66] \u001b[39m\u001b[92m+ SpecialFunctions v2.5.0\u001b[39m\n",
            " \u001b[90m [90137ffa] \u001b[39m\u001b[92m+ StaticArrays v1.9.9\u001b[39m\n",
            " \u001b[90m [1e83bf80] \u001b[39m\u001b[92m+ StaticArraysCore v1.4.3\u001b[39m\n",
            " \u001b[90m [82ae8749] \u001b[39m\u001b[92m+ StatsAPI v1.7.0\u001b[39m\n",
            " \u001b[90m [2913bbd2] \u001b[39m\u001b[92m+ StatsBase v0.34.4\u001b[39m\n",
            "\u001b[33m⌅\u001b[39m\u001b[90m [892a3eda] \u001b[39m\u001b[92m+ StringManipulation v0.3.4\u001b[39m\n",
            " \u001b[90m [3783bdb8] \u001b[39m\u001b[92m+ TableTraits v1.0.1\u001b[39m\n",
            " \u001b[90m [bd369af6] \u001b[39m\u001b[92m+ Tables v1.12.0\u001b[39m\n",
            " \u001b[90m [3bb67fe8] \u001b[39m\u001b[92m+ TranscodingStreams v0.11.3\u001b[39m\n",
            " \u001b[90m [ea10d353] \u001b[39m\u001b[92m+ WeakRefStrings v1.4.2\u001b[39m\n",
            " \u001b[90m [76eceee3] \u001b[39m\u001b[92m+ WorkerUtilities v1.6.1\u001b[39m\n",
            " \u001b[90m [fdbf4ff8] \u001b[39m\u001b[92m+ XLSX v0.10.4\u001b[39m\n",
            " \u001b[90m [49080126] \u001b[39m\u001b[92m+ ZipArchives v2.4.0\u001b[39m\n",
            " \u001b[90m [a5390f91] \u001b[39m\u001b[92m+ ZipFile v0.10.1\u001b[39m\n",
            " \u001b[90m [6e34b625] \u001b[39m\u001b[92m+ Bzip2_jll v1.0.8+3\u001b[39m\n",
            " \u001b[90m [8fd58aa0] \u001b[39m\u001b[92m+ HiGHS_jll v1.8.1+0\u001b[39m\n",
            " \u001b[90m [94ce4f54] \u001b[39m\u001b[92m+ Libiconv_jll v1.17.0+1\u001b[39m\n",
            " \u001b[90m [efe28fd5] \u001b[39m\u001b[92m+ OpenSpecFun_jll v0.5.5+1\u001b[39m\n",
            " \u001b[90m [02c8fc9c] \u001b[39m\u001b[92m+ XML2_jll v2.13.5+0\u001b[39m\n",
            " \u001b[90m [9fa8497b] \u001b[39m\u001b[92m+ Future\u001b[39m\n",
            " \u001b[90m [05823500] \u001b[39m\u001b[92m+ OpenLibm_jll v0.8.1+0\u001b[39m\n",
            "\u001b[36m\u001b[1m        Info\u001b[22m\u001b[39m Packages marked with \u001b[33m⌅\u001b[39m have new versions available but compatibility constraints restrict them from upgrading. To see why use `status --outdated -m`\n",
            "\u001b[32m\u001b[1m    Building\u001b[22m\u001b[39m PyCall → `~/.julia/scratchspaces/44cfe95a-1eb2-52ea-b672-e2afdf69b78f/9816a3826b0ebf49ab4926e2b18842ad8b5c8f04/build.log`\n",
            "\u001b[32m\u001b[1mPrecompiling\u001b[22m\u001b[39m project...\n",
            "\u001b[32m  ✓ \u001b[39m\u001b[90mCompat\u001b[39m\n",
            "\u001b[32m  ✓ \u001b[39m\u001b[90mOrderedCollections\u001b[39m\n",
            "\u001b[32m  ✓ \u001b[39m\u001b[90mDataValueInterfaces\u001b[39m\n",
            "\u001b[32m  ✓ \u001b[39m\u001b[90mLaTeXStrings\u001b[39m\n",
            "\u001b[32m  ✓ \u001b[39m\u001b[90mSentinelArrays\u001b[39m\n",
            "\u001b[32m  ✓ \u001b[39m\u001b[90mOpenLibm_jll\u001b[39m\n",
            "\u001b[32m  ✓ \u001b[39m\u001b[90mInvertedIndices\u001b[39m\n",
            "\u001b[32m  ✓ \u001b[39m\u001b[90mReexport\u001b[39m\n",
            "\u001b[32m  ✓ \u001b[39m\u001b[90mInverseFunctions\u001b[39m\n",
            "\u001b[32m  ✓ \u001b[39m\u001b[90mDocStringExtensions\u001b[39m\n",
            "\u001b[32m  ✓ \u001b[39m\u001b[90mIteratorInterfaceExtensions\u001b[39m\n",
            "\u001b[32m  ✓ \u001b[39m\u001b[90mDataAPI\u001b[39m\n",
            "\u001b[32m  ✓ \u001b[39m\u001b[90mIrrationalConstants\u001b[39m\n",
            "\u001b[32m  ✓ \u001b[39m\u001b[90mArgCheck\u001b[39m\n",
            "\u001b[32m  ✓ \u001b[39m\u001b[90mWorkerUtilities\u001b[39m\n",
            "\u001b[32m  ✓ \u001b[39m\u001b[90mStatsAPI\u001b[39m\n",
            "\u001b[32m  ✓ \u001b[39m\u001b[90mPtrArrays\u001b[39m\n",
            "\u001b[32m  ✓ \u001b[39m\u001b[90mStaticArraysCore\u001b[39m\n",
            "\u001b[32m  ✓ \u001b[39m\u001b[90mCrayons\u001b[39m\n",
            "\u001b[32m  ✓ \u001b[39m\u001b[90mInputBuffers\u001b[39m\n",
            "\u001b[32m  ✓ \u001b[39m\u001b[90mTranscodingStreams\u001b[39m\n",
            "\u001b[32m  ✓ \u001b[39m\u001b[90mMacroTools\u001b[39m\n",
            "\u001b[32m  ✓ \u001b[39m\u001b[90mZipFile\u001b[39m\n",
            "\u001b[32m  ✓ \u001b[39m\u001b[90mHiGHS_jll\u001b[39m\n",
            "\u001b[32m  ✓ \u001b[39m\u001b[90mLibiconv_jll\u001b[39m\n",
            "\u001b[32m  ✓ \u001b[39m\u001b[90mBzip2_jll\u001b[39m\n",
            "\u001b[32m  ✓ \u001b[39m\u001b[90mStringManipulation\u001b[39m\n",
            "\u001b[32m  ✓ \u001b[39m\u001b[90mOpenSpecFun_jll\u001b[39m\n",
            "\u001b[32m  ✓ \u001b[39m\u001b[90mFilePathsBase\u001b[39m\n",
            "\u001b[32m  ✓ \u001b[39m\u001b[90mInlineStrings\u001b[39m\n",
            "\u001b[32m  ✓ \u001b[39m\u001b[90mMutableArithmetics\u001b[39m\n",
            "\u001b[32m  ✓ \u001b[39m\u001b[90mNaNMath\u001b[39m\n",
            "\u001b[32m  ✓ \u001b[39m\u001b[90mChangesOfVariables\u001b[39m\n",
            "\u001b[32m  ✓ \u001b[39m\u001b[90mChainRulesCore\u001b[39m\n",
            "\u001b[32m  ✓ \u001b[39m\u001b[90mTableTraits\u001b[39m\n",
            "\u001b[32m  ✓ \u001b[39m\u001b[90mPooledArrays\u001b[39m\n",
            "\u001b[32m  ✓ \u001b[39m\u001b[90mMissings\u001b[39m\n",
            "\u001b[32m  ✓ \u001b[39m\u001b[90mAliasTables\u001b[39m\n",
            "\u001b[32m  ✓ \u001b[39m\u001b[90mDiffResults\u001b[39m\n",
            "\u001b[32m  ✓ \u001b[39m\u001b[90mDataStructures\u001b[39m\n",
            "\u001b[32m  ✓ \u001b[39m\u001b[90mCodecInflate64\u001b[39m\n",
            "\u001b[32m  ✓ \u001b[39m\u001b[90mCodecZlib\u001b[39m\n",
            "\u001b[32m  ✓ \u001b[39m\u001b[90mCommonSubexpressions\u001b[39m\n",
            "\u001b[32m  ✓ \u001b[39m\u001b[90mXML2_jll\u001b[39m\n",
            "\u001b[32m  ✓ \u001b[39m\u001b[90mCodecBzip2\u001b[39m\n",
            "\u001b[32m  ✓ \u001b[39m\u001b[90mWeakRefStrings\u001b[39m\n",
            "\u001b[32m  ✓ \u001b[39m\u001b[90mLogExpFunctions\u001b[39m\n",
            "\u001b[32m  ✓ \u001b[39m\u001b[90mTables\u001b[39m\n",
            "\u001b[32m  ✓ \u001b[39m\u001b[90mSortingAlgorithms\u001b[39m\n",
            "\u001b[32m  ✓ \u001b[39m\u001b[90mStaticArrays\u001b[39m\n",
            "\u001b[32m  ✓ \u001b[39m\u001b[90mEzXML\u001b[39m\n",
            "\u001b[32m  ✓ \u001b[39m\u001b[90mZipArchives\u001b[39m\n",
            "\u001b[32m  ✓ \u001b[39mPyCall\n",
            "\u001b[32m  ✓ \u001b[39m\u001b[90mSpecialFunctions\u001b[39m\n",
            "\u001b[32m  ✓ \u001b[39mStatsBase\n",
            "\u001b[32m  ✓ \u001b[39mXLSX\n",
            "\u001b[32m  ✓ \u001b[39m\u001b[90mDiffRules\u001b[39m\n",
            "\u001b[32m  ✓ \u001b[39m\u001b[90mForwardDiff\u001b[39m\n",
            "\u001b[32m  ✓ \u001b[39mCSV\n",
            "\u001b[32m  ✓ \u001b[39m\u001b[90mPrettyTables\u001b[39m\n",
            "\u001b[32m  ✓ \u001b[39mDataFrames\n",
            "\u001b[32m  ✓ \u001b[39m\u001b[90mMathOptInterface\u001b[39m\n",
            "\u001b[32m  ✓ \u001b[39mHiGHS\n",
            "\u001b[32m  ✓ \u001b[39mJuMP\n",
            "  64 dependencies successfully precompiled in 251 seconds. 20 already precompiled.\n",
            "\u001b[32m\u001b[1m   Resolving\u001b[22m\u001b[39m package versions...\n",
            "\u001b[32m\u001b[1m   Installed\u001b[22m\u001b[39m ConcurrentUtilities ─ v2.4.3\n",
            "\u001b[32m\u001b[1m   Installed\u001b[22m\u001b[39m LoggingExtras ─────── v1.1.0\n",
            "\u001b[32m\u001b[1m   Installed\u001b[22m\u001b[39m RecipesBase ───────── v1.3.4\n",
            "\u001b[32m\u001b[1m   Installed\u001b[22m\u001b[39m OpenSSL_jll ───────── v3.0.15+2\n",
            "\u001b[32m\u001b[1m   Installed\u001b[22m\u001b[39m BitFlags ──────────── v0.1.9\n",
            "\u001b[32m\u001b[1m   Installed\u001b[22m\u001b[39m SimpleBufferStream ── v1.2.0\n",
            "\u001b[32m\u001b[1m   Installed\u001b[22m\u001b[39m TimerOutputs ──────── v0.5.25\n",
            "\u001b[32m\u001b[1m   Installed\u001b[22m\u001b[39m OpenSSL ───────────── v1.4.3\n",
            "\u001b[32m\u001b[1m   Installed\u001b[22m\u001b[39m ExprTools ─────────── v0.1.10\n",
            "\u001b[32m\u001b[1m   Installed\u001b[22m\u001b[39m URIs ──────────────── v1.5.1\n",
            "\u001b[32m\u001b[1m   Installed\u001b[22m\u001b[39m ExceptionUnwrapping ─ v0.1.11\n",
            "\u001b[32m\u001b[1m   Installed\u001b[22m\u001b[39m HTTP ──────────────── v1.10.15\n",
            "\u001b[32m\u001b[1m   Installed\u001b[22m\u001b[39m SDDP ──────────────── v1.5.0\n",
            "\u001b[32m\u001b[1m    Updating\u001b[22m\u001b[39m `~/.julia/environments/v1.8/Project.toml`\n",
            "\u001b[32m⌃\u001b[39m\u001b[90m [f4570300] \u001b[39m\u001b[92m+ SDDP v1.5.0\u001b[39m\n",
            "\u001b[32m\u001b[1m    Updating\u001b[22m\u001b[39m `~/.julia/environments/v1.8/Manifest.toml`\n",
            " \u001b[90m [d1d4a3ce] \u001b[39m\u001b[92m+ BitFlags v0.1.9\u001b[39m\n",
            " \u001b[90m [f0e56b4a] \u001b[39m\u001b[92m+ ConcurrentUtilities v2.4.3\u001b[39m\n",
            " \u001b[90m [460bff9d] \u001b[39m\u001b[92m+ ExceptionUnwrapping v0.1.11\u001b[39m\n",
            " \u001b[90m [e2ba6199] \u001b[39m\u001b[92m+ ExprTools v0.1.10\u001b[39m\n",
            " \u001b[90m [cd3eb016] \u001b[39m\u001b[92m+ HTTP v1.10.15\u001b[39m\n",
            " \u001b[90m [e6f89c97] \u001b[39m\u001b[92m+ LoggingExtras v1.1.0\u001b[39m\n",
            " \u001b[90m [4d8831e6] \u001b[39m\u001b[92m+ OpenSSL v1.4.3\u001b[39m\n",
            " \u001b[90m [3cdcf5f2] \u001b[39m\u001b[92m+ RecipesBase v1.3.4\u001b[39m\n",
            "\u001b[32m⌃\u001b[39m\u001b[90m [f4570300] \u001b[39m\u001b[92m+ SDDP v1.5.0\u001b[39m\n",
            " \u001b[90m [777ac1f9] \u001b[39m\u001b[92m+ SimpleBufferStream v1.2.0\u001b[39m\n",
            "\u001b[33m⌅\u001b[39m\u001b[90m [a759f4b9] \u001b[39m\u001b[92m+ TimerOutputs v0.5.25\u001b[39m\n",
            " \u001b[90m [5c2747f8] \u001b[39m\u001b[92m+ URIs v1.5.1\u001b[39m\n",
            " \u001b[90m [458c3c95] \u001b[39m\u001b[92m+ OpenSSL_jll v3.0.15+2\u001b[39m\n",
            " \u001b[90m [8ba89e20] \u001b[39m\u001b[92m+ Distributed\u001b[39m\n",
            "\u001b[36m\u001b[1m        Info\u001b[22m\u001b[39m Packages marked with \u001b[32m⌃\u001b[39m and \u001b[33m⌅\u001b[39m have new versions available, but those with \u001b[33m⌅\u001b[39m are restricted by compatibility constraints from upgrading. To see why use `status --outdated -m`\n",
            "\u001b[32m\u001b[1mPrecompiling\u001b[22m\u001b[39m project...\n",
            "\u001b[32m  ✓ \u001b[39m\u001b[90mSimpleBufferStream\u001b[39m\n",
            "\u001b[32m  ✓ \u001b[39m\u001b[90mExprTools\u001b[39m\n",
            "\u001b[32m  ✓ \u001b[39m\u001b[90mURIs\u001b[39m\n",
            "\u001b[32m  ✓ \u001b[39m\u001b[90mBitFlags\u001b[39m\n",
            "\u001b[32m  ✓ \u001b[39m\u001b[90mLoggingExtras\u001b[39m\n",
            "\u001b[32m  ✓ \u001b[39m\u001b[90mExceptionUnwrapping\u001b[39m\n",
            "\u001b[32m  ✓ \u001b[39m\u001b[90mConcurrentUtilities\u001b[39m\n",
            "\u001b[32m  ✓ \u001b[39m\u001b[90mOpenSSL_jll\u001b[39m\n",
            "\u001b[32m  ✓ \u001b[39m\u001b[90mRecipesBase\u001b[39m\n",
            "\u001b[32m  ✓ \u001b[39m\u001b[90mTimerOutputs\u001b[39m\n",
            "\u001b[32m  ✓ \u001b[39m\u001b[90mOpenSSL\u001b[39m\n",
            "\u001b[32m  ✓ \u001b[39m\u001b[90mHTTP\u001b[39m\n",
            "\u001b[32m  ✓ \u001b[39mSDDP\n",
            "  13 dependencies successfully precompiled in 27 seconds. 84 already precompiled.\n"
          ]
        }
      ],
      "source": [
        "# installation of packages\n",
        "using Pkg\n",
        "Pkg.add([\"XLSX\", \"Test\", \"DataFrames\", \"JuMP\", \"StatsBase\", \"HiGHS\", \"PyCall\", \"CSV\"])\n",
        "Pkg.add(PackageSpec(name = \"SDDP\", version = \"1.5.0\"))"
      ]
    },
    {
      "cell_type": "markdown",
      "source": [
        "# **Model Parameters**"
      ],
      "metadata": {
        "id": "zyWTen2fle6R"
      }
    },
    {
      "cell_type": "code",
      "source": [
        "no_aa = 4            # number of affected areas\n",
        "no_m = 1               # number of materials\n",
        "no_time_periods = 12  # number of time periods\n",
        "\n",
        "aaa = reshape([2.04 for i in 1 : no_aa], (no_aa, no_m))      # list of coefficients to be used in deprivation cost function. The size of the array is equal to \"no_affected_areas\" times \"no_materials\".\n",
        "bbb = reshape([0.24 for i in 1 : no_aa], (no_aa, no_m))      # list of coefficients to be used in deprivation cost function. The size of the array is equal to \"no_affected_areas\" times \"no_materials\".\n",
        "\n",
        "demand_aa_mat = 1.5 * reshape([1 for i in 1 : no_aa], (no_aa, no_m))           # robustified demand values generated at affected areas for relief item(s)\n",
        "\n",
        "# 200, 250, 300, 350, 400, 450, 500, 550, 600, 650\n",
        "cost_path = reshape([200, 250, 300, 350], (no_aa, no_m))     # number of time periods times number of affected areas (AAs) times number of materials (accessibility based delivery cost for unit capacity)\n",
        "\n",
        "cap_dist = 3    # total flexible capacity at local response centers (LRCs). The size of this list is equal to \"no_dist_centers\". The order is \"no_dist_centers\". (1, 2, 3)"
      ],
      "metadata": {
        "id": "6tvhQovnleKB",
        "colab": {
          "base_uri": "https://localhost:8080/"
        },
        "outputId": "bfb07d4f-ca21-4808-e623-41493753ff77"
      },
      "execution_count": 5,
      "outputs": [
        {
          "output_type": "execute_result",
          "data": {
            "text/plain": [
              "3"
            ]
          },
          "metadata": {},
          "execution_count": 5
        }
      ]
    },
    {
      "cell_type": "markdown",
      "metadata": {
        "id": "jeF8x6VtLpLG"
      },
      "source": [
        "# **Problem definition (multi-period, location relocation, resource allocation two echelon supply chain problem)**"
      ]
    },
    {
      "cell_type": "code",
      "execution_count": 6,
      "metadata": {
        "id": "n0Yf4QvgKCnl",
        "colab": {
          "base_uri": "https://localhost:8080/"
        },
        "outputId": "2f8d8c6a-7be3-44a8-a2bd-a0b9122f1581"
      },
      "outputs": [
        {
          "output_type": "execute_result",
          "data": {
            "text/plain": [
              "TaskLocalRNG()"
            ]
          },
          "metadata": {},
          "execution_count": 6
        }
      ],
      "source": [
        "# setting random seed for reproducbility of simulation experiments\n",
        "\n",
        "using Random, CSV, DataFrames\n",
        "Random.seed!(1)"
      ]
    },
    {
      "cell_type": "code",
      "source": [
        "# setting random seed for reproducbility of simulation experiments\n",
        "\n",
        "using SDDP, HiGHS, Test, XLSX, DataFrames, JuMP, StatsBase, Random, CSV\n",
        "\n",
        "#################################### specification of data #########################################\n",
        "\n",
        "no_lrc = 1               # number of local response centers (6, 9, 12)\n",
        "Len = 4  # Length of one time period\n",
        "planning_horizon = Len * no_time_periods\n",
        "\n",
        "logistics_cost_weight = 1 / 3\n",
        "absolute_deprivation_cost_weight = 1 / 3\n",
        "\n",
        "linear_interval = 4     # to be used for the linearization of the deprivation cost function (which is exponential)\n",
        "\n",
        "state_init = [0 for i in 1 : no_aa * no_m]\n",
        "\n",
        "consum_cap_dist = reshape([1], (no_m, no_lrc))    # The size of this list is equal to \"no_dist_centers\" times number of materials. The order is \"no_dist_centers\" and then number of materials (its units (number of units of relief item per capacity consumed) will be changed in case of large values of deamnd in order to avoid numerical instablility issues)\n",
        "\n",
        "if cap_dist <= demand_aa_mat[1]\n",
        "  tmep_arr = [x for x = round(maximum(demand_aa_mat) - cap_dist, digits = 1) : 0.5 : round(maximum(demand_aa_mat) * no_time_periods, digits = 1)]\n",
        "else\n",
        "  tmep_arr = [x for x = round((maximum(demand_aa_mat) - cap_dist) * no_time_periods, digits = 1) : 0.5 : round(maximum(demand_aa_mat) * no_time_periods, digits = 1)]\n",
        "end\n",
        "\n",
        "tmep_arr_zeros = zeros(size(tmep_arr))\n",
        "\n",
        "for i in 1 : size(tmep_arr_zeros)[1]\n",
        "  tmep_arr_zeros[i] = (tmep_arr[i] >= 0)\n",
        "end\n",
        "\n",
        "scal_fact = 1"
      ],
      "metadata": {
        "id": "ytVDl9kbL-ml",
        "colab": {
          "base_uri": "https://localhost:8080/"
        },
        "outputId": "79a50f55-00b9-454d-e9e0-dc8e021a9f0a"
      },
      "execution_count": 7,
      "outputs": [
        {
          "output_type": "execute_result",
          "data": {
            "text/plain": [
              "1"
            ]
          },
          "metadata": {},
          "execution_count": 7
        }
      ]
    },
    {
      "cell_type": "code",
      "execution_count": 8,
      "metadata": {
        "colab": {
          "base_uri": "https://localhost:8080/"
        },
        "id": "0v_FDCyC-3wn",
        "outputId": "69ea9eb7-332f-48e9-a153-8a59e676375e"
      },
      "outputs": [
        {
          "output_type": "execute_result",
          "data": {
            "text/plain": [
              "A policy graph with 12 nodes.\n",
              " Node indices: 1, ..., 12\n"
            ]
          },
          "metadata": {},
          "execution_count": 8
        }
      ],
      "source": [
        "sup_chain_model = SDDP.LinearPolicyGraph(\n",
        "    stages = no_time_periods,\n",
        "    lower_bound = -10.0,\n",
        "    optimizer = HiGHS.Optimizer,\n",
        "    # solver = IpoptSolver(print_level=0)\n",
        ") do subproblem, stage\n",
        "\n",
        "    ############################################# state variables ######################################\n",
        "\n",
        "    # deprivation level of each affected area for each material\n",
        "    @variable(subproblem, minimum((minimum(tmep_arr), 0)) <= dep_lvl_state_var[i = 1 : no_aa, j = 1 : no_m] <= maximum(tmep_arr), SDDP.State, initial_value = 0)\n",
        "\n",
        "\n",
        "    ################################################## decision variables ###############################################\n",
        "\n",
        "    # resource allocation variable definition (from local response centers to affected areas for a particular relief item)\n",
        "    @variables(subproblem, begin\n",
        "        0 <= res_alloc_var[i = 1 : no_aa, j = 1 : no_m, k = 1 : no_lrc] <= cap_dist, Int\n",
        "    end)\n",
        "\n",
        "    # values to be used in the definition of the first set of linearization variables\n",
        "    @variables(subproblem, begin\n",
        "        val_lin_var_1[i = 1 : no_aa, j = 1 : no_m, k = 1 : size(tmep_arr)[1]], Bin\n",
        "    end)\n",
        "\n",
        "    ############################################## Transition Functions ###############################################\n",
        "\n",
        "    # deprivation level of each affected area for each material\n",
        "    @constraints(subproblem, begin\n",
        "      dep_lvl_trans_f[i = 1 : no_aa, j = 1 : no_m], dep_lvl_state_var[i, j].out / scal_fact == (dep_lvl_state_var[i, j].in - sum(res_alloc_var[i, j, k] for k in 1 : no_lrc) + demand_aa_mat[i, j]) / scal_fact\n",
        "    end)\n",
        "\n",
        "    ############################################### constraints ###################################################\n",
        "\n",
        "    # local response centers' flexible capacity constraints\n",
        "    @constraints(subproblem, begin\n",
        "      c_1[i = 1 : no_lrc], sum(res_alloc_var[j, k, i] for k in 1 : no_m for j in 1 : no_aa) / scal_fact <= cap_dist / scal_fact\n",
        "    end)\n",
        "\n",
        "    # linearization constraints which includes state variables\n",
        "    @constraints(subproblem, begin\n",
        "      c_2[i = 1 : no_aa, j = 1 : no_m], dep_lvl_state_var[i, j].out / scal_fact == sum(tmep_arr[k] * val_lin_var_1[i, j, k] for k in 1 : size(tmep_arr)[1]) / scal_fact\n",
        "    end)\n",
        "\n",
        "    # linearization constraints for first set of linarization variables\n",
        "    @constraints(subproblem, begin\n",
        "      c_3[i = 1 : no_aa, j = 1 : no_m], sum(val_lin_var_1[i, j, k] for k in 1 : size(tmep_arr)[1]) == 1\n",
        "    end)\n",
        "\n",
        "    ############################################################# objective function ###################################################\n",
        "\n",
        "    # accessibility based delivery cost\n",
        "    @expression(\n",
        "      subproblem, access_deliv_cost_exp,\n",
        "      sum(cost_path[i, j, k] * res_alloc_var[i, j, k] for k in 1 : no_lrc for j in 1 : no_m for i in 1 : no_aa)\n",
        "    )\n",
        "\n",
        "    if stage == 1\n",
        "      @expression(\n",
        "        subproblem, dep_cost_exp,\n",
        "        sum((exp(aaa[i, j]) * (exp(bbb[i, j] * linear_interval) - 1)) * (exp(bbb[i, j] * linear_interval) ^ tmep_arr[k]) * tmep_arr_zeros[k] * val_lin_var_1[i, j, k] for k in 1 : size(tmep_arr)[1] for j in 1 : no_m for i in 1 : no_aa) +\n",
        "        sum((exp(aaa[i, j]) * (exp(bbb[i, j] * linear_interval) - 1)) for j in 1 : no_m for i in 1 : no_aa)\n",
        "      )\n",
        "    else\n",
        "      @expression(\n",
        "        subproblem, dep_cost_exp,\n",
        "        sum((exp(aaa[i, j]) * (exp(bbb[i, j] * linear_interval) - 1)) * (exp(bbb[i, j] * linear_interval) ^ tmep_arr[k]) * tmep_arr_zeros[k] * val_lin_var_1[i, j, k] for k in 1 : size(tmep_arr)[1] for j in 1 : no_m for i in 1 : no_aa)\n",
        "      )\n",
        "    end\n",
        "\n",
        "    @stageobjective(\n",
        "      subproblem,\n",
        "      (logistics_cost_weight * access_deliv_cost_exp + absolute_deprivation_cost_weight * dep_cost_exp)\n",
        "    )\n",
        "end"
      ]
    },
    {
      "cell_type": "code",
      "source": [
        "for i in 1 : no_time_periods\n",
        "  SDDP.parameterize(sup_chain_model[i], 1.1)\n",
        "  SDDP.write_subproblem_to_file(sup_chain_model[i], \"/content/drive/MyDrive/nested_benders_decomposition_($(no_aa),_$(cap_dist),_$(no_time_periods))_model_of_stage_$(i)_sup_chain_model.lp\")\n",
        "end\n",
        "\n",
        "read(\"sup_chain_model.lp\") |> String |> print"
      ],
      "metadata": {
        "id": "HxZ58rCda1yX",
        "colab": {
          "base_uri": "https://localhost:8080/",
          "height": 436
        },
        "outputId": "b6de66ba-7100-47f4-9f9f-ed5964291089"
      },
      "execution_count": 9,
      "outputs": [
        {
          "output_type": "error",
          "ename": "LoadError",
          "evalue": "SystemError: opening file \"sup_chain_model.lp\": No such file or directory",
          "traceback": [
            "SystemError: opening file \"sup_chain_model.lp\": No such file or directory",
            "",
            "Stacktrace:",
            " [1] systemerror(p::String, errno::Int32; extrainfo::Nothing)",
            "   @ Base ./error.jl:176",
            " [2] #systemerror#80",
            "   @ ./error.jl:175 [inlined]",
            " [3] systemerror",
            "   @ ./error.jl:175 [inlined]",
            " [4] open(fname::String; lock::Bool, read::Nothing, write::Nothing, create::Nothing, truncate::Nothing, append::Nothing)",
            "   @ Base ./iostream.jl:293",
            " [5] open",
            "   @ ./iostream.jl:275 [inlined]",
            " [6] open(f::Base.var\"#385#386\"{Tuple{}}, args::String; kwargs::Base.Pairs{Symbol, Union{}, Tuple{}, NamedTuple{(), Tuple{}}})",
            "   @ Base ./io.jl:382",
            " [7] open",
            "   @ ./io.jl:381 [inlined]",
            " [8] read(::String)",
            "   @ Base ./io.jl:460",
            " [9] top-level scope",
            "   @ In[9]:6"
          ]
        }
      ]
    },
    {
      "cell_type": "code",
      "source": [
        "@time begin\n",
        "\n",
        "# SDDP agent training\n",
        "SDDP.train(\n",
        "    sup_chain_model,\n",
        "    #iteration_limit = 30,\n",
        "    stopping_rules = [SDDP.BoundStalling(1000, 1e-4)],\n",
        "    cut_type = SDDP.SINGLE_CUT,\n",
        "    # cut_type = SDDP.MULTI_CUT,\n",
        "    log_frequency = 100,\n",
        "    risk_measure = SDDP.Expectation(),     # for risk neutral decision-making\n",
        "    # risk_measure = SDDP.EAVaR(;lambda=0.5, beta=0.5),     # for risk-averse decision-making\n",
        ")\n",
        "\n",
        "end"
      ],
      "metadata": {
        "id": "EaR96UnXazbi",
        "colab": {
          "base_uri": "https://localhost:8080/"
        },
        "outputId": "09d4b934-f56e-4ee2-da52-a5085826d1ea"
      },
      "execution_count": 10,
      "outputs": [
        {
          "output_type": "stream",
          "name": "stdout",
          "text": [
            "-------------------------------------------------------------------\n",
            "         SDDP.jl (c) Oscar Dowson and contributors, 2017-23\n",
            "-------------------------------------------------------------------\n",
            "problem\n",
            "  nodes           : 12\n",
            "  state variables : 4\n",
            "  scenarios       : 1.00000e+00\n",
            "  existing cuts   : false\n",
            "options\n",
            "  solver          : serial mode\n",
            "  risk measure    : SDDP.Expectation()\n",
            "  sampling scheme : SDDP.InSampleMonteCarlo\n",
            "subproblem structure\n",
            "  VariableRef                             : [305, 305]\n",
            "  AffExpr in MOI.EqualTo{Float64}         : [12, 12]\n",
            "  AffExpr in MOI.LessThan{Float64}        : [1, 1]\n",
            "  VariableRef in MOI.GreaterThan{Float64} : [9, 9]\n",
            "  VariableRef in MOI.Integer              : [4, 4]\n",
            "  VariableRef in MOI.LessThan{Float64}    : [8, 9]\n",
            "  VariableRef in MOI.ZeroOne              : [292, 292]\n",
            "numerical stability report\n",
            "  matrix range     [5e-01, 2e+01]\n",
            "  objective range  [1e+00, 1e+08]\n",
            "  bounds range     [3e+00, 2e+01]\n",
            "  rhs range        [1e+00, 3e+00]\n",
            "WARNING: numerical stability issues detected\n",
            "  - objective range contains large coefficients\n",
            "Very large or small absolute values of coefficients\n",
            "can cause numerical stability issues. Consider\n",
            "reformulating the model.\n",
            "-------------------------------------------------------------------\n",
            " iteration    simulation      bound        time (s)     solves  pid\n",
            "-------------------------------------------------------------------\n",
            "       100   1.928763e+05  1.870484e+05  6.757728e+01      2400   1\n",
            "       200   1.928763e+05  1.870484e+05  1.238209e+02      4800   1\n",
            "       300   1.928763e+05  1.870484e+05  1.832513e+02      7200   1\n",
            "       400   1.928763e+05  1.870484e+05  2.478133e+02      9600   1\n",
            "       500   1.928763e+05  1.870484e+05  3.161823e+02     12000   1\n",
            "       600   1.928763e+05  1.870484e+05  3.894388e+02     14400   1\n",
            "       700   1.928763e+05  1.870484e+05  4.684668e+02     16800   1\n",
            "       800   1.928763e+05  1.870484e+05  5.543516e+02     19200   1\n",
            "       900   1.928763e+05  1.870484e+05  6.466499e+02     21600   1\n",
            "      1000   1.928763e+05  1.870484e+05  7.478434e+02     24000   1\n",
            "-------------------------------------------------------------------\n",
            "status         : bound_stalling\n",
            "total time (s) : 7.506771e+02\n",
            "total solves   : 24072\n",
            "best bound     :  1.870484e+05\n",
            "simulation ci  :  1.935846e+05 ± 1.278547e+03\n",
            "numeric issues : 0\n",
            "-------------------------------------------------------------------\n",
            "\n",
            "759.921099 seconds (533.56 M allocations: 95.806 GiB, 1.77% gc time, 3.05% compilation time)\n"
          ]
        }
      ]
    },
    {
      "cell_type": "code",
      "source": [
        "filePath = \"/content/drive/MyDrive/nested_benders_decomposition_($(no_aa),_$(cap_dist),_$(no_time_periods))_convergence_curves.csv\"\n",
        "SDDP.write_log_to_csv(sup_chain_model, filePath)\n",
        "\n",
        "CSV.write(filePath, DataFrame([[\"\\n\"]], :auto), append = true)\n",
        "\n",
        "CSV.write(filePath, DataFrame([[\"####\"], [\"####\"], [\"####\"], [\"####\"], [\"####\"], [\"####\"], [\"####\"], [\"####\"], [\"####\"], [\"####\"], [\"####\"], [\"####\"], [\"####\"], [\"####\"], [\"####\"], [\"####\"], [\"####\"], [\"####\"], [\"####\"]], :auto), append = true)\n",
        "CSV.write(filePath, DataFrame([[\"-\"], [\"-\"], [\"-\"], [\"-\"], [\"-\"], [\"-\"], [\"-\"], [\"-\"], [\"-\"], [\"-\"], [\"-\"], [\"-\"], [\"-\"], [\"-\"], [\"-\"], [\"-\"], [\"-\"], [\"-\"], [\"-\"], [\"-\"], ], :auto), append = true)"
      ],
      "metadata": {
        "colab": {
          "base_uri": "https://localhost:8080/"
        },
        "id": "B1zJbGi9O14X",
        "outputId": "29874c8c-8354-4a10-c734-70245efbb9b4"
      },
      "execution_count": 11,
      "outputs": [
        {
          "output_type": "execute_result",
          "data": {
            "text/plain": [
              "\"/content/drive/MyDrive/nested_benders_decomposition_(4,_3,_12)_convergence_curves.csv\""
            ]
          },
          "metadata": {},
          "execution_count": 11
        }
      ]
    },
    {
      "cell_type": "markdown",
      "metadata": {
        "id": "_ZtxqgrILxbL"
      },
      "source": [
        "# **Evaluation of the learned policy**"
      ]
    },
    {
      "cell_type": "code",
      "execution_count": 12,
      "metadata": {
        "id": "GEHt0NBoLw56",
        "colab": {
          "base_uri": "https://localhost:8080/"
        },
        "outputId": "502b9a96-10e7-4d4e-c734-3d927f854597"
      },
      "outputs": [
        {
          "output_type": "execute_result",
          "data": {
            "text/plain": [
              "1-element Vector{Vector{Dict{Symbol, Any}}}:\n",
              " [Dict(:val_lin_var_1 => [0.0; 0.0; 0.0; 0.0;;; 0.0; 0.0; 0.0; 0.0;;; 0.0; 0.0; 0.0; 0.0;;; … ;;; 0.0; 0.0; 0.0; 0.0;;; 0.0; 0.0; 0.0; 0.0;;; 0.0; 0.0; 0.0; 0.0], :dep_lvl_state_var => SDDP.State{Float64}[SDDP.State{Float64}(0.0, 0.5000000000004903); SDDP.State{Float64}(0.0, 0.5); SDDP.State{Float64}(0.0, 1.5); SDDP.State{Float64}(0.0, 0.4999999999995097);;], :bellman_term => 186727.70348502413, :noise_term => nothing, :res_alloc_var => [0.9999999999995097; 1.0; 0.0; 1.0000000000004898;;;], :node_index => 1, :stage_objective => 320.6627689107156, :objective_state => nothing, :belief => Dict(1 => 1.0)), Dict(:val_lin_var_1 => [0.0; 0.0; 0.0; 0.0;;; 0.0; 0.0; 0.0; 0.0;;; 0.0; 0.0; 0.0; 0.0;;; … ;;; 0.0; 0.0; 0.0; 0.0;;; 0.0; 0.0; 0.0; 0.0;;; 0.0; 0.0; 0.0; 0.0], :dep_lvl_state_var => SDDP.State{Float64}[SDDP.State{Float64}(0.5000000000004903, 2.0000000000004903); SDDP.State{Float64}(0.5, 2.0); SDDP.State{Float64}(1.5, 1.0); SDDP.State{Float64}(0.4999999999995097, 0.9999999999995097);;], :bellman_term => 186341.2831922271, :noise_term => nothing, :res_alloc_var => [-3.723243571003754e-16; -0.0; 2.0; 1.0;;;], :node_index => 2, :stage_objective => 394.6113841755208, :objective_state => nothing, :belief => Dict(2 => 1.0)), Dict(:val_lin_var_1 => [0.0; 0.0; 0.0; 0.0;;; 0.0; 0.0; 0.0; 0.0;;; 0.0; 0.0; 0.0; 0.0;;; … ;;; 0.0; 0.0; 0.0; 0.0;;; 0.0; 0.0; 0.0; 0.0;;; 0.0; 0.0; 0.0; 0.0], :dep_lvl_state_var => SDDP.State{Float64}[SDDP.State{Float64}(2.0000000000004903, 1.5000000000004903); SDDP.State{Float64}(2.0, 2.5); SDDP.State{Float64}(1.0, 2.5); SDDP.State{Float64}(0.9999999999995097, 2.4999999999995097);;], :bellman_term => 185977.16535104817, :noise_term => nothing, :res_alloc_var => [2.0000000000000004; 1.0; 0.0; -0.0;;;], :node_index => 3, :stage_objective => 370.7365477296805, :objective_state => nothing, :belief => Dict(3 => 1.0)), Dict(:val_lin_var_1 => [0.0; 0.0; 0.0; 0.0;;; 0.0; 0.0; 0.0; 0.0;;; 0.0; 0.0; 0.0; 0.0;;; … ;;; 0.0; 0.0; 0.0; 0.0;;; 0.0; 0.0; 0.0; 0.0;;; 0.0; 0.0; 0.0; 0.0], :dep_lvl_state_var => SDDP.State{Float64}[SDDP.State{Float64}(1.5000000000004903, 3.0000000000004903); SDDP.State{Float64}(2.5, 3.0); SDDP.State{Float64}(2.5, 3.0); SDDP.State{Float64}(2.4999999999995097, 2.9999999999995097);;], :bellman_term => 185382.75651301813, :noise_term => nothing, :res_alloc_var => [-0.0; 1.0; 1.0; 1.0;;;], :node_index => 4, :stage_objective => 594.4088380298449, :objective_state => nothing, :belief => Dict(4 => 1.0)), Dict(:val_lin_var_1 => [0.0; 0.0; 0.0; 0.0;;; 0.0; 0.0; 0.0; 0.0;;; 0.0; 0.0; 0.0; 0.0;;; … ;;; 0.0; 0.0; 0.0; 0.0;;; 0.0; 0.0; 0.0; 0.0;;; 0.0; 0.0; 0.0; 0.0], :dep_lvl_state_var => SDDP.State{Float64}[SDDP.State{Float64}(3.0000000000004903, 4.50000000000049); SDDP.State{Float64}(3.0, 3.5); SDDP.State{Float64}(3.0, 3.5); SDDP.State{Float64}(2.9999999999995097, 3.4999999999995097);;], :bellman_term => 184460.4099575457, :noise_term => nothing, :res_alloc_var => [-0.0; 1.0; 1.0; 1.0;;;], :node_index => 5, :stage_objective => 967.4924779793848, :objective_state => nothing, :belief => Dict(5 => 1.0)), Dict(:val_lin_var_1 => [0.0; 0.0; 0.0; 0.0;;; 0.0; 0.0; 0.0; 0.0;;; 0.0; 0.0; 0.0; 0.0;;; … ;;; 0.0; 0.0; 0.0; 0.0;;; 0.0; 0.0; 0.0; 0.0;;; 0.0; 0.0; 0.0; 0.0], :dep_lvl_state_var => SDDP.State{Float64}[SDDP.State{Float64}(4.50000000000049, 5.00000000000049); SDDP.State{Float64}(3.5, 5.0); SDDP.State{Float64}(3.5, 4.0); SDDP.State{Float64}(3.4999999999995097, 3.9999999999995097);;], :bellman_term => 182934.4664730523, :noise_term => nothing, :res_alloc_var => [1.0000000000000004; -0.0; 1.0; 1.0;;;], :node_index => 6, :stage_objective => 1671.8618239437646, :objective_state => nothing, :belief => Dict(6 => 1.0)), Dict(:val_lin_var_1 => [0.0; 0.0; 0.0; 0.0;;; 0.0; 0.0; 0.0; 0.0;;; 0.0; 0.0; 0.0; 0.0;;; … ;;; 0.0; 0.0; 0.0; 0.0;;; 0.0; 0.0; 0.0; 0.0;;; 0.0; 0.0; 0.0; 0.0], :dep_lvl_state_var => SDDP.State{Float64}[SDDP.State{Float64}(5.00000000000049, 5.50000000000049); SDDP.State{Float64}(5.0, 5.5); SDDP.State{Float64}(4.0, 5.5); SDDP.State{Float64}(3.9999999999995097, 4.49999999999951);;], :bellman_term => 180041.06430297764, :noise_term => nothing, :res_alloc_var => [0.9999999999999997; 1.0; -0.0; 1.0;;;], :node_index => 7, :stage_objective => 3011.3096166735563, :objective_state => nothing, :belief => Dict(7 => 1.0)), Dict(:val_lin_var_1 => [0.0; 0.0; 0.0; 0.0;;; 0.0; 0.0; 0.0; 0.0;;; 0.0; 0.0; 0.0; 0.0;;; … ;;; 0.0; 0.0; 0.0; 0.0;;; 0.0; 0.0; 0.0; 0.0;;; 0.0; 0.0; 0.0; 0.0], :dep_lvl_state_var => SDDP.State{Float64}[SDDP.State{Float64}(5.50000000000049, 6.00000000000049); SDDP.State{Float64}(5.5, 6.0); SDDP.State{Float64}(5.5, 6.0); SDDP.State{Float64}(4.49999999999951, 5.99999999999951);;], :bellman_term => 174546.38483582172, :noise_term => nothing, :res_alloc_var => [1.0000000000000004; 1.0; 1.0; -0.0;;;], :node_index => 8, :stage_objective => 5494.679467155858, :objective_state => nothing, :belief => Dict(8 => 1.0)), Dict(:val_lin_var_1 => [0.0; 0.0; 0.0; 0.0;;; 0.0; 0.0; 0.0; 0.0;;; 0.0; 0.0; 0.0; 0.0;;; … ;;; 0.0; 0.0; 0.0; 0.0;;; 0.0; 0.0; 0.0; 0.0;;; 0.0; 0.0; 0.0; 0.0], :dep_lvl_state_var => SDDP.State{Float64}[SDDP.State{Float64}(6.00000000000049, 6.50000000000049); SDDP.State{Float64}(6.0, 6.5); SDDP.State{Float64}(6.0, 6.5); SDDP.State{Float64}(5.99999999999951, 7.49999999999951);;], :bellman_term => 163209.73328423005, :noise_term => nothing, :res_alloc_var => [0.9999999999999997; 1.0; 1.0; -0.0;;;], :node_index => 9, :stage_objective => 12140.893348061045, :objective_state => nothing, :belief => Dict(9 => 1.0)), Dict(:val_lin_var_1 => [0.0; 0.0; 0.0; 0.0;;; 0.0; 0.0; 0.0; 0.0;;; 0.0; 0.0; 0.0; 0.0;;; … ;;; 0.0; 0.0; 0.0; 0.0;;; 0.0; 0.0; 0.0; 0.0;;; 0.0; 0.0; 0.0; 0.0], :dep_lvl_state_var => SDDP.State{Float64}[SDDP.State{Float64}(6.50000000000049, 8.00000000000049); SDDP.State{Float64}(6.5, 8.0); SDDP.State{Float64}(6.5, 7.0); SDDP.State{Float64}(7.49999999999951, 6.99999999999951);;], :bellman_term => 140740.20326238452, :noise_term => nothing, :res_alloc_var => [-7.84595772828248e-17; 4.440892098500626e-16; 1.0; 2.0;;;], :node_index => 10, :stage_objective => 25068.959182742154, :objective_state => nothing, :belief => Dict(10 => 1.0)), Dict(:val_lin_var_1 => [0.0; 0.0; 0.0; 0.0;;; 0.0; 0.0; 0.0; 0.0;;; 0.0; 0.0; 0.0; 0.0;;; … ;;; 0.0; 0.0; 0.0; 0.0;;; 0.0; 0.0; 0.0; 0.0;;; 0.0; 0.0; 0.0; 0.0], :dep_lvl_state_var => SDDP.State{Float64}[SDDP.State{Float64}(8.00000000000049, 8.50000000000049); SDDP.State{Float64}(8.0, 8.5); SDDP.State{Float64}(7.0, 8.5); SDDP.State{Float64}(6.99999999999951, 7.49999999999951);;], :bellman_term => 93680.15276741737, :noise_term => nothing, :res_alloc_var => [1.0; 1.0; -0.0; 1.0;;;], :node_index => 11, :stage_objective => 49160.4859585861, :objective_state => nothing, :belief => Dict(11 => 1.0)), Dict(:val_lin_var_1 => [0.0; 0.0; 0.0; 0.0;;; 0.0; 0.0; 0.0; 0.0;;; 0.0; 0.0; 0.0; 0.0;;; … ;;; 0.0; 0.0; 0.0; 0.0;;; 0.0; 0.0; 0.0; 0.0;;; 0.0; 0.0; 0.0; 0.0], :dep_lvl_state_var => SDDP.State{Float64}[SDDP.State{Float64}(8.50000000000049, 9.00000000000049); SDDP.State{Float64}(8.5, 9.0); SDDP.State{Float64}(8.5, 9.0); SDDP.State{Float64}(7.49999999999951, 8.99999999999951);;], :bellman_term => 0.0, :noise_term => nothing, :res_alloc_var => [1.0; 1.0; 1.0; -0.0;;;], :node_index => 12, :stage_objective => 93680.15276741743, :objective_state => nothing, :belief => Dict(12 => 1.0))]"
            ]
          },
          "metadata": {},
          "execution_count": 12
        }
      ],
      "source": [
        "simulations = SDDP.simulate(\n",
        "  # The trained model to simulate.\n",
        "  sup_chain_model,\n",
        "  # The number of replications.\n",
        "  1,\n",
        "  # A list of names to record the values of.\n",
        "  [:dep_lvl_state_var, :res_alloc_var, :val_lin_var_1],\n",
        ")"
      ]
    },
    {
      "cell_type": "code",
      "execution_count": 13,
      "metadata": {
        "id": "OUNgCNzkWIvW",
        "colab": {
          "base_uri": "https://localhost:8080/"
        },
        "outputId": "f561df83-9868-4e94-8b59-b264dfdc409a"
      },
      "outputs": [
        {
          "output_type": "stream",
          "name": "stdout",
          "text": [
            "320.6627689107156\n",
            "394.6113841755208\n",
            "370.7365477296805\n",
            "594.4088380298449\n",
            "967.4924779793848\n",
            "1671.8618239437646\n",
            "3011.3096166735563\n",
            "5494.679467155858\n",
            "12140.893348061045\n",
            "25068.959182742154\n",
            "49160.4859585861\n",
            "93680.15276741743\n"
          ]
        },
        {
          "output_type": "execute_result",
          "data": {
            "text/plain": [
              "\"/content/drive/MyDrive/nested_benders_decomposition_(4,_3,_12)_convergence_curves.csv\""
            ]
          },
          "metadata": {},
          "execution_count": 13
        }
      ],
      "source": [
        "CSV.write(filePath, DataFrame([[\"-\"], [\"-\"], [\"-\"], [\"-\"], [\"-\"], [\"-\"], [\"-\"], [\"-\"], [\"-\"], [\"-\"], [\"-\"], [\"-\"], [\"-\"], [\"-\"], [\"-\"], [\"-\"], [\"-\"], [\"-\"], [\"-\"], [\"-\"]], :auto), append = true)\n",
        "CSV.write(filePath, DataFrame([[\"\\n\"]], :auto), append = true)\n",
        "\n",
        "total_objective = 0\n",
        "for i in 1 : no_time_periods\n",
        "  println(simulations[1][i][:stage_objective])\n",
        "  CSV.write(filePath, DataFrame([[\"Stage $i Objective Value: \"], [simulations[1][i][:stage_objective]]], :auto), append = true)\n",
        "end\n",
        "\n",
        "CSV.write(filePath, DataFrame([[\"\\n\"]], :auto), append = true)"
      ]
    },
    {
      "cell_type": "code",
      "execution_count": 14,
      "metadata": {
        "id": "HhkkayjCWONF",
        "colab": {
          "base_uri": "https://localhost:8080/"
        },
        "outputId": "d854d843-ca3e-428c-9081-90342dd3490a"
      },
      "outputs": [
        {
          "output_type": "stream",
          "name": "stdout",
          "text": [
            "[0.9999999999995097; 1.0; 0.0; 1.0000000000004898;;;]\n",
            "[-3.723243571003754e-16; -0.0; 2.0; 1.0;;;]\n",
            "[2.0000000000000004; 1.0; 0.0; -0.0;;;]\n",
            "[-0.0; 1.0; 1.0; 1.0;;;]\n",
            "[-0.0; 1.0; 1.0; 1.0;;;]\n",
            "[1.0000000000000004; -0.0; 1.0; 1.0;;;]\n",
            "[0.9999999999999997; 1.0; -0.0; 1.0;;;]\n",
            "[1.0000000000000004; 1.0; 1.0; -0.0;;;]\n",
            "[0.9999999999999997; 1.0; 1.0; -0.0;;;]\n",
            "[-7.84595772828248e-17; 4.440892098500626e-16; 1.0; 2.0;;;]\n",
            "[1.0; 1.0; -0.0; 1.0;;;]\n",
            "[1.0; 1.0; 1.0; -0.0;;;]\n"
          ]
        }
      ],
      "source": [
        "CSV.write(filePath, DataFrame([[\"-\"], [\"-\"], [\"-\"], [\"-\"], [\"-\"], [\"-\"], [\"-\"], [\"-\"], [\"-\"], [\"-\"], [\"-\"], [\"-\"], [\"-\"], [\"-\"], [\"-\"], [\"-\"], [\"-\"], [\"-\"], [\"-\"], [\"-\"]], :auto), append = true)\n",
        "CSV.write(filePath, DataFrame([[\"\\n\"]], :auto), append = true)\n",
        "CSV.write(filePath, DataFrame([[\"Resource Allocation Decisions:\"]], :auto), append = true)\n",
        "\n",
        "res_alloc_dec_var_dict = Dict()     # this dictonary will store the decision (control) variables from the trained policy\n",
        "\n",
        "for i in 1 : no_time_periods\n",
        "  println(reshape(simulations[1][i][:res_alloc_var], (no_aa, no_m, no_lrc)))\n",
        "  CSV.write(filePath, DataFrame([[round(simulations[1][i][:res_alloc_var][j], digits = 0)] for j in 1 : no_aa * no_m], :auto), append = true)\n",
        "  res_alloc_dec_var_dict[\"$i\"] = reshape(simulations[1][i][:res_alloc_var], (no_aa, no_m, no_lrc))\n",
        "end"
      ]
    },
    {
      "cell_type": "code",
      "source": [
        "CSV.write(filePath, DataFrame([[\"-\"], [\"-\"], [\"-\"], [\"-\"], [\"-\"], [\"-\"], [\"-\"], [\"-\"], [\"-\"], [\"-\"], [\"-\"], [\"-\"], [\"-\"], [\"-\"], [\"-\"], [\"-\"], [\"-\"], [\"-\"], [\"-\"], [\"-\"]], :auto), append = true)\n",
        "CSV.write(filePath, DataFrame([[\"\\n\"]], :auto), append = true)\n",
        "CSV.write(filePath, DataFrame([[\"Values of the Variables for the Linearization of Non-Convex Objective:\"]], :auto), append = true)\n",
        "\n",
        "val_lin_var_1_dict = Dict()     # this dictonary will store the decision (control) variables from the trained policy\n",
        "\n",
        "for i in 1 : no_time_periods\n",
        "  println(reshape(simulations[1][i][:val_lin_var_1], (no_aa, no_m, size(tmep_arr)[1])))\n",
        "  CSV.write(filePath, DataFrame([[round(simulations[1][i][:val_lin_var_1][j], digits = 0)] for j in 1 : no_aa * no_m * size(tmep_arr)[1]], :auto), append = true)\n",
        "  val_lin_var_1_dict[\"$i\"] = reshape(simulations[1][i][:val_lin_var_1], (no_aa, no_m, size(tmep_arr)[1]))\n",
        "end"
      ],
      "metadata": {
        "colab": {
          "base_uri": "https://localhost:8080/"
        },
        "id": "pWaHL-rDfR8e",
        "outputId": "a8bcb855-2347-432e-f485-883ff24710e2"
      },
      "execution_count": 15,
      "outputs": [
        {
          "output_type": "stream",
          "name": "stdout",
          "text": [
            "[0.0; 0.0; 0.0; 0.0;;; 0.0; 0.0; 0.0; 0.0;;; 0.0; 0.0; 0.0; 0.0;;; 0.0; 0.0; 0.0; 0.0;;; 0.0; 0.0; 0.0; 0.0;;; 0.0; 0.0; 0.0; 0.0;;; 0.0; 0.0; 0.0; 0.0;;; 0.0; 0.0; 0.0; 0.0;;; 0.0; 0.0; 0.0; 0.0;;; 0.0; 0.0; 0.0; 0.0;;; 0.0; 0.0; 0.0; 0.0;;; 0.0; 0.0; 0.0; 0.0;;; 0.0; 0.0; 0.0; 0.0;;; 0.0; 0.0; 0.0; 0.0;;; 0.0; 0.0; 0.0; 0.0;;; 0.0; 0.0; 0.0; 0.0;;; 0.0; 0.0; 0.0; 0.0;;; 0.0; 0.0; 0.0; 0.0;;; 0.0; 0.0; 0.0; 0.0;;; 0.0; 0.0; 0.0; 0.0;;; 0.0; 0.0; 0.0; 0.0;;; 0.0; 0.0; 0.0; 0.0;;; 0.0; 0.0; 0.0; 0.0;;; 0.0; 0.0; 0.0; 0.0;;; 0.0; 0.0; 0.0; 0.0;;; 0.0; 0.0; 0.0; 0.0;;; 0.0; 0.0; 0.0; 0.0;;; 0.0; 0.0; 0.0; 0.0;;; 0.0; 0.0; 0.0; 0.0;;; 0.0; 0.0; 0.0; 0.0;;; 0.0; 0.0; 0.0; 0.0;;; 0.0; 0.0; 0.0; 0.0;;; 0.0; 0.0; 0.0; 0.0;;; 0.0; 0.0; 0.0; 0.0;;; 0.0; 0.0; 0.0; 0.0;;; 0.0; 0.0; 0.0; 0.0;;; 0.0; 0.0; 0.0; 0.0;;; 0.9999999999995097; 1.0; -0.0; 1.0;;; 0.0; 0.0; 0.0; 0.0;;; 4.902744876744691e-13; -0.0; 1.0; 2.220446049250313e-16;;; 0.0; 0.0; 0.0; 0.0;;; 0.0; 0.0; 0.0; 0.0;;; 0.0; 0.0; 0.0; 0.0;;; 0.0; 0.0; 0.0; 0.0;;; 0.0; 0.0; 0.0; 0.0;;; 0.0; 0.0; 0.0; 0.0;;; 0.0; 0.0; 0.0; 0.0;;; 0.0; 0.0; 0.0; 0.0;;; 0.0; 0.0; 0.0; 0.0;;; 0.0; 0.0; 0.0; 0.0;;; 0.0; 0.0; 0.0; 0.0;;; 0.0; 0.0; 0.0; 0.0;;; 0.0; 0.0; 0.0; 0.0;;; 0.0; 0.0; 0.0; 0.0;;; 0.0; 0.0; 0.0; 0.0;;; 0.0; 0.0; 0.0; 0.0;;; 0.0; 0.0; 0.0; 0.0;;; 0.0; 0.0; 0.0; 0.0;;; 0.0; 0.0; 0.0; 0.0;;; 0.0; 0.0; 0.0; 0.0;;; 0.0; 0.0; 0.0; 0.0;;; 0.0; 0.0; 0.0; 0.0;;; 0.0; 0.0; 0.0; 0.0;;; 0.0; 0.0; 0.0; 0.0;;; 0.0; 0.0; 0.0; 0.0;;; 0.0; 0.0; 0.0; 0.0;;; 0.0; 0.0; 0.0; 0.0;;; 0.0; 0.0; 0.0; 0.0;;; 0.0; 0.0; 0.0; 0.0;;; 0.0; 0.0; 0.0; 0.0;;; 0.0; 0.0; 0.0; 0.0;;; 0.0; 0.0; 0.0; 0.0;;; 0.0; 0.0; 0.0; 0.0]\n",
            "[0.0; 0.0; 0.0; 0.0;;; 0.0; 0.0; 0.0; 0.0;;; 0.0; 0.0; 0.0; 0.0;;; 0.0; 0.0; 0.0; 0.0;;; 0.0; 0.0; 0.0; 0.0;;; 0.0; 0.0; 0.0; 0.0;;; 0.0; 0.0; 0.0; 0.0;;; 0.0; 0.0; 0.0; 0.0;;; 0.0; 0.0; 0.0; 0.0;;; 0.0; 0.0; 0.0; 0.0;;; 0.0; 0.0; 0.0; 0.0;;; 0.0; 0.0; 0.0; 0.0;;; 0.0; 0.0; 0.0; 0.0;;; 0.0; 0.0; 0.0; 0.0;;; 0.0; 0.0; 0.0; 0.0;;; 0.0; 0.0; 0.0; 0.0;;; 0.0; 0.0; 0.0; 0.0;;; 0.0; 0.0; 0.0; 0.0;;; 0.0; 0.0; 0.0; 0.0;;; 0.0; 0.0; 0.0; 0.0;;; 0.0; 0.0; 0.0; 0.0;;; 0.0; 0.0; 0.0; 0.0;;; 0.0; 0.0; 0.0; 0.0;;; 0.0; 0.0; 0.0; 0.0;;; 0.0; 0.0; 0.0; 0.0;;; 0.0; 0.0; 0.0; 0.0;;; 0.0; 0.0; 0.0; 0.0;;; 0.0; 0.0; 0.0; 0.0;;; 0.0; 0.0; 0.0; 0.0;;; 0.0; 0.0; 0.0; 0.0;;; 0.0; 0.0; 0.0; 0.0;;; 0.0; 0.0; 0.0; 0.0;;; 0.0; 0.0; 0.0; 0.0;;; 0.0; 0.0; 0.0; 0.0;;; 0.0; 0.0; 0.0; 0.0;;; 0.0; 0.0; 0.0; 0.0;;; 0.0; 0.0; 0.0; 0.0;;; 0.0; 0.0; 0.0; 0.0;;; -0.0; 0.0; 1.0; 1.0;;; 0.0; 0.0; 0.0; 0.0;;; 1.0; 1.0; -0.0; -0.0;;; 0.0; 0.0; 0.0; 0.0;;; 0.0; 0.0; 0.0; 0.0;;; 0.0; 0.0; 0.0; 0.0;;; 0.0; 0.0; 0.0; 0.0;;; 0.0; 0.0; 0.0; 0.0;;; 0.0; 0.0; 0.0; 0.0;;; 0.0; 0.0; 0.0; 0.0;;; 0.0; 0.0; 0.0; 0.0;;; 0.0; 0.0; 0.0; 0.0;;; 0.0; 0.0; 0.0; 0.0;;; 0.0; 0.0; 0.0; 0.0;;; 0.0; 0.0; 0.0; 0.0;;; 0.0; 0.0; 0.0; 0.0;;; 0.0; 0.0; 0.0; 0.0;;; 0.0; 0.0; 0.0; 0.0;;; 0.0; 0.0; 0.0; 0.0;;; 0.0; 0.0; 0.0; 0.0;;; 0.0; 0.0; 0.0; 0.0;;; 0.0; 0.0; 0.0; 0.0;;; 0.0; 0.0; 0.0; 0.0;;; 0.0; 0.0; 0.0; 0.0;;; 0.0; 0.0; 0.0; 0.0;;; 0.0; 0.0; 0.0; 0.0;;; 0.0; 0.0; 0.0; 0.0;;; 0.0; 0.0; 0.0; 0.0;;; 0.0; 0.0; 0.0; 0.0;;; 0.0; 0.0; 0.0; 0.0;;; 0.0; 0.0; 0.0; 0.0;;; 0.0; 0.0; 0.0; 0.0;;; 0.0; 0.0; 0.0; 0.0;;; 0.0; 0.0; 0.0; 0.0;;; 0.0; 0.0; 0.0; 0.0]\n",
            "[0.0; 0.0; 0.0; 0.0;;; 0.0; 0.0; 0.0; 0.0;;; 0.0; 0.0; 0.0; 0.0;;; 0.0; 0.0; 0.0; 0.0;;; 0.0; 0.0; 0.0; 0.0;;; 0.0; 0.0; 0.0; 0.0;;; 0.0; 0.0; 0.0; 0.0;;; 0.0; 0.0; 0.0; 0.0;;; 0.0; 0.0; 0.0; 0.0;;; 0.0; 0.0; 0.0; 0.0;;; 0.0; 0.0; 0.0; 0.0;;; 0.0; 0.0; 0.0; 0.0;;; 0.0; 0.0; 0.0; 0.0;;; 0.0; 0.0; 0.0; 0.0;;; 0.0; 0.0; 0.0; 0.0;;; 0.0; 0.0; 0.0; 0.0;;; 0.0; 0.0; 0.0; 0.0;;; 0.0; 0.0; 0.0; 0.0;;; 0.0; 0.0; 0.0; 0.0;;; 0.0; 0.0; 0.0; 0.0;;; 0.0; 0.0; 0.0; 0.0;;; 0.0; 0.0; 0.0; 0.0;;; 0.0; 0.0; 0.0; 0.0;;; 0.0; 0.0; 0.0; 0.0;;; 0.0; 0.0; 0.0; 0.0;;; 0.0; 0.0; 0.0; 0.0;;; 0.0; 0.0; 0.0; 0.0;;; 0.0; 0.0; 0.0; 0.0;;; 0.0; 0.0; 0.0; 0.0;;; 0.0; 0.0; 0.0; 0.0;;; 0.0; 0.0; 0.0; 0.0;;; 0.0; 0.0; 0.0; 0.0;;; 0.0; 0.0; 0.0; 0.0;;; 0.0; 0.0; 0.0; 0.0;;; 0.0; 0.0; 0.0; 0.0;;; 0.0; 0.0; 0.0; 0.0;;; 0.0; 0.0; 0.0; 0.0;;; 0.0; 0.0; 0.0; 0.0;;; 0.0; 0.0; 0.0; 0.0;;; 1.0; -0.0; 6.661338147750939e-16; -0.0;;; 0.0; 0.0; 0.0; 0.0;;; -2.220446049250313e-16; 1.0; 0.9999999999999996; 1.0;;; 0.0; 0.0; 0.0; 0.0;;; 0.0; 0.0; 0.0; 0.0;;; 0.0; 0.0; 0.0; 0.0;;; 0.0; 0.0; 0.0; 0.0;;; 0.0; 0.0; 0.0; 0.0;;; 0.0; 0.0; 0.0; 0.0;;; 0.0; 0.0; 0.0; 0.0;;; 0.0; 0.0; 0.0; 0.0;;; 0.0; 0.0; 0.0; 0.0;;; 0.0; 0.0; 0.0; 0.0;;; 0.0; 0.0; 0.0; 0.0;;; 0.0; 0.0; 0.0; 0.0;;; 0.0; 0.0; 0.0; 0.0;;; 0.0; 0.0; 0.0; 0.0;;; 0.0; 0.0; 0.0; 0.0;;; 0.0; 0.0; 0.0; 0.0;;; 0.0; 0.0; 0.0; 0.0;;; 0.0; 0.0; 0.0; 0.0;;; 0.0; 0.0; 0.0; 0.0;;; 0.0; 0.0; 0.0; 0.0;;; 0.0; 0.0; 0.0; 0.0;;; 0.0; 0.0; 0.0; 0.0;;; 0.0; 0.0; 0.0; 0.0;;; 0.0; 0.0; 0.0; 0.0;;; 0.0; 0.0; 0.0; 0.0;;; 0.0; 0.0; 0.0; 0.0;;; 0.0; 0.0; 0.0; 0.0;;; 0.0; 0.0; 0.0; 0.0;;; 0.0; 0.0; 0.0; 0.0;;; 0.0; 0.0; 0.0; 0.0;;; 0.0; 0.0; 0.0; 0.0]\n",
            "[0.0; 0.0; 0.0; 0.0;;; 0.0; 0.0; 0.0; 0.0;;; 0.0; 0.0; 0.0; 0.0;;; 0.0; 0.0; 0.0; 0.0;;; 0.0; 0.0; 0.0; 0.0;;; 0.0; 0.0; 0.0; 0.0;;; 0.0; 0.0; 0.0; 0.0;;; 0.0; 0.0; 0.0; 0.0;;; 0.0; 0.0; 0.0; 0.0;;; 0.0; 0.0; 0.0; 0.0;;; 0.0; 0.0; 0.0; 0.0;;; 0.0; 0.0; 0.0; 0.0;;; 0.0; 0.0; 0.0; 0.0;;; 0.0; 0.0; 0.0; 0.0;;; 0.0; 0.0; 0.0; 0.0;;; 0.0; 0.0; 0.0; 0.0;;; 0.0; 0.0; 0.0; 0.0;;; 0.0; 0.0; 0.0; 0.0;;; 0.0; 0.0; 0.0; 0.0;;; 0.0; 0.0; 0.0; 0.0;;; 0.0; 0.0; 0.0; 0.0;;; 0.0; 0.0; 0.0; 0.0;;; 0.0; 0.0; 0.0; 0.0;;; 0.0; 0.0; 0.0; 0.0;;; 0.0; 0.0; 0.0; 0.0;;; 0.0; 0.0; 0.0; 0.0;;; 0.0; 0.0; 0.0; 0.0;;; 0.0; 0.0; 0.0; 0.0;;; 0.0; 0.0; 0.0; 0.0;;; 0.0; 0.0; 0.0; 0.0;;; 0.0; 0.0; 0.0; 0.0;;; 0.0; 0.0; 0.0; 0.0;;; 0.0; 0.0; 0.0; 0.0;;; 0.0; 0.0; 0.0; 0.0;;; 0.0; 0.0; 0.0; 0.0;;; 0.0; 0.0; 0.0; 0.0;;; 0.0; 0.0; 0.0; 0.0;;; 0.0; 0.0; 0.0; 0.0;;; 0.0; 0.0; 0.0; 0.0;;; 0.0; 0.0; 0.0; 0.0;;; -2.220446049250313e-16; -0.0; -0.0; 0.0;;; 0.0; 0.0; 0.0; 0.0;;; 1.0; 1.0; 1.0; 1.0;;; 0.0; 0.0; 0.0; 0.0;;; 0.0; 0.0; 0.0; 0.0;;; 0.0; 0.0; 0.0; 0.0;;; 0.0; 0.0; 0.0; 0.0;;; 0.0; 0.0; 0.0; 0.0;;; 0.0; 0.0; 0.0; 0.0;;; 0.0; 0.0; 0.0; 0.0;;; 0.0; 0.0; 0.0; 0.0;;; 0.0; 0.0; 0.0; 0.0;;; 0.0; 0.0; 0.0; 0.0;;; 0.0; 0.0; 0.0; 0.0;;; 0.0; 0.0; 0.0; 0.0;;; 0.0; 0.0; 0.0; 0.0;;; 0.0; 0.0; 0.0; 0.0;;; 0.0; 0.0; 0.0; 0.0;;; 0.0; 0.0; 0.0; 0.0;;; 0.0; 0.0; 0.0; 0.0;;; 0.0; 0.0; 0.0; 0.0;;; 0.0; 0.0; 0.0; 0.0;;; 0.0; 0.0; 0.0; 0.0;;; 0.0; 0.0; 0.0; 0.0;;; 0.0; 0.0; 0.0; 0.0;;; 0.0; 0.0; 0.0; 0.0;;; 0.0; 0.0; 0.0; 0.0;;; 0.0; 0.0; 0.0; 0.0;;; 0.0; 0.0; 0.0; 0.0;;; 0.0; 0.0; 0.0; 0.0;;; 0.0; 0.0; 0.0; 0.0;;; 0.0; 0.0; 0.0; 0.0;;; 0.0; 0.0; 0.0; 0.0]\n",
            "[0.0; 0.0; 0.0; 0.0;;; 0.0; 0.0; 0.0; 0.0;;; 0.0; 0.0; 0.0; 0.0;;; 0.0; 0.0; 0.0; 0.0;;; 0.0; 0.0; 0.0; 0.0;;; 0.0; 0.0; 0.0; 0.0;;; 0.0; 0.0; 0.0; 0.0;;; 0.0; 0.0; 0.0; 0.0;;; 0.0; 0.0; 0.0; 0.0;;; 0.0; 0.0; 0.0; 0.0;;; 0.0; 0.0; 0.0; 0.0;;; 0.0; 0.0; 0.0; 0.0;;; 0.0; 0.0; 0.0; 0.0;;; 0.0; 0.0; 0.0; 0.0;;; 0.0; 0.0; 0.0; 0.0;;; 0.0; 0.0; 0.0; 0.0;;; 0.0; 0.0; 0.0; 0.0;;; 0.0; 0.0; 0.0; 0.0;;; 0.0; 0.0; 0.0; 0.0;;; 0.0; 0.0; 0.0; 0.0;;; 0.0; 0.0; 0.0; 0.0;;; 0.0; 0.0; 0.0; 0.0;;; 0.0; 0.0; 0.0; 0.0;;; 0.0; 0.0; 0.0; 0.0;;; 0.0; 0.0; 0.0; 0.0;;; 0.0; 0.0; 0.0; 0.0;;; 0.0; 0.0; 0.0; 0.0;;; 0.0; 0.0; 0.0; 0.0;;; 0.0; 0.0; 0.0; 0.0;;; 0.0; 0.0; 0.0; 0.0;;; 0.0; 0.0; 0.0; 0.0;;; 0.0; 0.0; 0.0; 0.0;;; 0.0; 0.0; 0.0; 0.0;;; 0.0; 0.0; 0.0; 0.0;;; 0.0; 0.0; 0.0; 0.0;;; 0.0; 0.0; 0.0; 0.0;;; 0.0; 0.0; 0.0; 0.0;;; 0.0; 0.0; 0.0; 0.0;;; 0.0; 0.0; 0.0; 0.0;;; 0.0; 0.0; 0.0; 0.0;;; 0.0; 0.0; 0.0; 0.0;;; 0.0; 0.0; 0.0; 0.0;;; 0.0; 0.0; 0.0; 0.0;;; -0.0; 1.0; 1.0; 1.0;;; 0.0; 0.0; 0.0; 0.0;;; 1.0; 0.0; 0.0; -0.0;;; 0.0; 0.0; 0.0; 0.0;;; 0.0; 0.0; 0.0; 0.0;;; 0.0; 0.0; 0.0; 0.0;;; 0.0; 0.0; 0.0; 0.0;;; 0.0; 0.0; 0.0; 0.0;;; 0.0; 0.0; 0.0; 0.0;;; 0.0; 0.0; 0.0; 0.0;;; 0.0; 0.0; 0.0; 0.0;;; 0.0; 0.0; 0.0; 0.0;;; 0.0; 0.0; 0.0; 0.0;;; 0.0; 0.0; 0.0; 0.0;;; 0.0; 0.0; 0.0; 0.0;;; 0.0; 0.0; 0.0; 0.0;;; 0.0; 0.0; 0.0; 0.0;;; 0.0; 0.0; 0.0; 0.0;;; 0.0; 0.0; 0.0; 0.0;;; 0.0; 0.0; 0.0; 0.0;;; 0.0; 0.0; 0.0; 0.0;;; 0.0; 0.0; 0.0; 0.0;;; 0.0; 0.0; 0.0; 0.0;;; 0.0; 0.0; 0.0; 0.0;;; 0.0; 0.0; 0.0; 0.0;;; 0.0; 0.0; 0.0; 0.0;;; 0.0; 0.0; 0.0; 0.0;;; 0.0; 0.0; 0.0; 0.0;;; 0.0; 0.0; 0.0; 0.0;;; 0.0; 0.0; 0.0; 0.0]\n",
            "[0.0; 0.0; 0.0; 0.0;;; 0.0; 0.0; 0.0; 0.0;;; 0.0; 0.0; 0.0; 0.0;;; 0.0; 0.0; 0.0; 0.0;;; 0.0; 0.0; 0.0; 0.0;;; 0.0; 0.0; 0.0; 0.0;;; 0.0; 0.0; 0.0; 0.0;;; 0.0; 0.0; 0.0; 0.0;;; 0.0; 0.0; 0.0; 0.0;;; 0.0; 0.0; 0.0; 0.0;;; 0.0; 0.0; 0.0; 0.0;;; 0.0; 0.0; 0.0; 0.0;;; 0.0; 0.0; 0.0; 0.0;;; 0.0; 0.0; 0.0; 0.0;;; 0.0; 0.0; 0.0; 0.0;;; 0.0; 0.0; 0.0; 0.0;;; 0.0; 0.0; 0.0; 0.0;;; 0.0; 0.0; 0.0; 0.0;;; 0.0; 0.0; 0.0; 0.0;;; 0.0; 0.0; 0.0; 0.0;;; 0.0; 0.0; 0.0; 0.0;;; 0.0; 0.0; 0.0; 0.0;;; 0.0; 0.0; 0.0; 0.0;;; 0.0; 0.0; 0.0; 0.0;;; 0.0; 0.0; 0.0; 0.0;;; 0.0; 0.0; 0.0; 0.0;;; 0.0; 0.0; 0.0; 0.0;;; 0.0; 0.0; 0.0; 0.0;;; 0.0; 0.0; 0.0; 0.0;;; 0.0; 0.0; 0.0; 0.0;;; 0.0; 0.0; 0.0; 0.0;;; 0.0; 0.0; 0.0; 0.0;;; 0.0; 0.0; 0.0; 0.0;;; 0.0; 0.0; 0.0; 0.0;;; 0.0; 0.0; 0.0; 0.0;;; 0.0; 0.0; 0.0; 0.0;;; 0.0; 0.0; 0.0; 0.0;;; 0.0; 0.0; 0.0; 0.0;;; 0.0; 0.0; 0.0; 0.0;;; 0.0; 0.0; 0.0; 0.0;;; 0.0; 0.0; 0.0; 0.0;;; 0.0; 0.0; 0.0; 0.0;;; 0.0; 0.0; 0.0; 0.0;;; 0.0; 0.0; 0.0; 0.0;;; 0.0; -0.0; 0.9999999999999998; 1.0;;; 0.0; 0.0; 0.0; 0.0;;; 1.0; 1.0; 0.0; 0.0;;; 0.0; 0.0; 0.0; 0.0;;; 0.0; 0.0; 0.0; 0.0;;; 0.0; 0.0; 0.0; 0.0;;; 0.0; 0.0; 0.0; 0.0;;; 0.0; 0.0; 0.0; 0.0;;; 0.0; 0.0; 0.0; 0.0;;; 0.0; 0.0; 0.0; 0.0;;; 0.0; 0.0; 0.0; 0.0;;; 0.0; 0.0; 0.0; 0.0;;; 0.0; 0.0; 0.0; 0.0;;; 0.0; 0.0; 0.0; 0.0;;; 0.0; 0.0; 0.0; 0.0;;; 0.0; 0.0; 0.0; 0.0;;; 0.0; 0.0; 0.0; 0.0;;; 0.0; 0.0; 0.0; 0.0;;; 0.0; 0.0; 0.0; 0.0;;; 0.0; 0.0; 0.0; 0.0;;; 0.0; 0.0; 0.0; 0.0;;; 0.0; 0.0; 0.0; 0.0;;; 0.0; 0.0; 0.0; 0.0;;; 0.0; 0.0; 0.0; 0.0;;; 0.0; 0.0; 0.0; 0.0;;; 0.0; 0.0; 0.0; 0.0;;; 0.0; 0.0; 0.0; 0.0;;; 0.0; 0.0; 0.0; 0.0;;; 0.0; 0.0; 0.0; 0.0]\n",
            "[0.0; 0.0; 0.0; 0.0;;; 0.0; 0.0; 0.0; 0.0;;; 0.0; 0.0; 0.0; 0.0;;; 0.0; 0.0; 0.0; 0.0;;; 0.0; 0.0; 0.0; 0.0;;; 0.0; 0.0; 0.0; 0.0;;; 0.0; 0.0; 0.0; 0.0;;; 0.0; 0.0; 0.0; 0.0;;; 0.0; 0.0; 0.0; 0.0;;; 0.0; 0.0; 0.0; 0.0;;; 0.0; 0.0; 0.0; 0.0;;; 0.0; 0.0; 0.0; 0.0;;; 0.0; 0.0; 0.0; 0.0;;; 0.0; 0.0; 0.0; 0.0;;; 0.0; 0.0; 0.0; 0.0;;; 0.0; 0.0; 0.0; 0.0;;; 0.0; 0.0; 0.0; 0.0;;; 0.0; 0.0; 0.0; 0.0;;; 0.0; 0.0; 0.0; 0.0;;; 0.0; 0.0; 0.0; 0.0;;; 0.0; 0.0; 0.0; 0.0;;; 0.0; 0.0; 0.0; 0.0;;; 0.0; 0.0; 0.0; 0.0;;; 0.0; 0.0; 0.0; 0.0;;; 0.0; 0.0; 0.0; 0.0;;; 0.0; 0.0; 0.0; 0.0;;; 0.0; 0.0; 0.0; 0.0;;; 0.0; 0.0; 0.0; 0.0;;; 0.0; 0.0; 0.0; 0.0;;; 0.0; 0.0; 0.0; 0.0;;; 0.0; 0.0; 0.0; 0.0;;; 0.0; 0.0; 0.0; 0.0;;; 0.0; 0.0; 0.0; 0.0;;; 0.0; 0.0; 0.0; 0.0;;; 0.0; 0.0; 0.0; 0.0;;; 0.0; 0.0; 0.0; 0.0;;; 0.0; 0.0; 0.0; 0.0;;; 0.0; 0.0; 0.0; 0.0;;; 0.0; 0.0; 0.0; 0.0;;; 0.0; 0.0; 0.0; 0.0;;; 0.0; 0.0; 0.0; 0.0;;; 0.0; 0.0; 0.0; 0.0;;; 0.0; 0.0; 0.0; 0.0;;; 0.0; 0.0; 0.0; 0.0;;; 0.0; 0.0; 0.0; 0.0;;; -4.440892098500626e-16; -0.0; -0.0; 1.0;;; 0.0; 0.0; 0.0; 0.0;;; 1.0000000000000004; 1.0; 1.0; 0.0;;; 0.0; 0.0; 0.0; 0.0;;; 0.0; 0.0; 0.0; 0.0;;; 0.0; 0.0; 0.0; 0.0;;; 0.0; 0.0; 0.0; 0.0;;; 0.0; 0.0; 0.0; 0.0;;; 0.0; 0.0; 0.0; 0.0;;; 0.0; 0.0; 0.0; 0.0;;; 0.0; 0.0; 0.0; 0.0;;; 0.0; 0.0; 0.0; 0.0;;; 0.0; 0.0; 0.0; 0.0;;; 0.0; 0.0; 0.0; 0.0;;; 0.0; 0.0; 0.0; 0.0;;; 0.0; 0.0; 0.0; 0.0;;; 0.0; 0.0; 0.0; 0.0;;; 0.0; 0.0; 0.0; 0.0;;; 0.0; 0.0; 0.0; 0.0;;; 0.0; 0.0; 0.0; 0.0;;; 0.0; 0.0; 0.0; 0.0;;; 0.0; 0.0; 0.0; 0.0;;; 0.0; 0.0; 0.0; 0.0;;; 0.0; 0.0; 0.0; 0.0;;; 0.0; 0.0; 0.0; 0.0;;; 0.0; 0.0; 0.0; 0.0;;; 0.0; 0.0; 0.0; 0.0;;; 0.0; 0.0; 0.0; 0.0]\n",
            "[0.0; 0.0; 0.0; 0.0;;; 0.0; 0.0; 0.0; 0.0;;; 0.0; 0.0; 0.0; 0.0;;; 0.0; 0.0; 0.0; 0.0;;; 0.0; 0.0; 0.0; 0.0;;; 0.0; 0.0; 0.0; 0.0;;; 0.0; 0.0; 0.0; 0.0;;; 0.0; 0.0; 0.0; 0.0;;; 0.0; 0.0; 0.0; 0.0;;; 0.0; 0.0; 0.0; 0.0;;; 0.0; 0.0; 0.0; 0.0;;; 0.0; 0.0; 0.0; 0.0;;; 0.0; 0.0; 0.0; 0.0;;; 0.0; 0.0; 0.0; 0.0;;; 0.0; 0.0; 0.0; 0.0;;; 0.0; 0.0; 0.0; 0.0;;; 0.0; 0.0; 0.0; 0.0;;; 0.0; 0.0; 0.0; 0.0;;; 0.0; 0.0; 0.0; 0.0;;; 0.0; 0.0; 0.0; 0.0;;; 0.0; 0.0; 0.0; 0.0;;; 0.0; 0.0; 0.0; 0.0;;; 0.0; 0.0; 0.0; 0.0;;; 0.0; 0.0; 0.0; 0.0;;; 0.0; 0.0; 0.0; 0.0;;; 0.0; 0.0; 0.0; 0.0;;; 0.0; 0.0; 0.0; 0.0;;; 0.0; 0.0; 0.0; 0.0;;; 0.0; 0.0; 0.0; 0.0;;; 0.0; 0.0; 0.0; 0.0;;; 0.0; 0.0; 0.0; 0.0;;; 0.0; 0.0; 0.0; 0.0;;; 0.0; 0.0; 0.0; 0.0;;; 0.0; 0.0; 0.0; 0.0;;; 0.0; 0.0; 0.0; 0.0;;; 0.0; 0.0; 0.0; 0.0;;; 0.0; 0.0; 0.0; 0.0;;; 0.0; 0.0; 0.0; 0.0;;; 0.0; 0.0; 0.0; 0.0;;; 0.0; 0.0; 0.0; 0.0;;; 0.0; 0.0; 0.0; 0.0;;; 0.0; 0.0; 0.0; 0.0;;; 0.0; 0.0; 0.0; 0.0;;; 0.0; 0.0; 0.0; 0.0;;; 0.0; 0.0; 0.0; 0.0;;; 0.0; 0.0; 0.0; 0.0;;; 0.0; -0.0; 0.0; -0.0;;; 0.0; 0.0; 0.0; 0.0;;; 1.0; 1.0; 1.0; 1.0;;; 0.0; 0.0; 0.0; 0.0;;; 0.0; 0.0; 0.0; 0.0;;; 0.0; 0.0; 0.0; 0.0;;; 0.0; 0.0; 0.0; 0.0;;; 0.0; 0.0; 0.0; 0.0;;; 0.0; 0.0; 0.0; 0.0;;; 0.0; 0.0; 0.0; 0.0;;; 0.0; 0.0; 0.0; 0.0;;; 0.0; 0.0; 0.0; 0.0;;; 0.0; 0.0; 0.0; 0.0;;; 0.0; 0.0; 0.0; 0.0;;; 0.0; 0.0; 0.0; 0.0;;; 0.0; 0.0; 0.0; 0.0;;; 0.0; 0.0; 0.0; 0.0;;; 0.0; 0.0; 0.0; 0.0;;; 0.0; 0.0; 0.0; 0.0;;; 0.0; 0.0; 0.0; 0.0;;; 0.0; 0.0; 0.0; 0.0;;; 0.0; 0.0; 0.0; 0.0;;; 0.0; 0.0; 0.0; 0.0;;; 0.0; 0.0; 0.0; 0.0;;; 0.0; 0.0; 0.0; 0.0;;; 0.0; 0.0; 0.0; 0.0;;; 0.0; 0.0; 0.0; 0.0]\n",
            "[0.0; 0.0; 0.0; 0.0;;; 0.0; 0.0; 0.0; 0.0;;; 0.0; 0.0; 0.0; 0.0;;; 0.0; 0.0; 0.0; 0.0;;; 0.0; 0.0; 0.0; 0.0;;; 0.0; 0.0; 0.0; 0.0;;; 0.0; 0.0; 0.0; 0.0;;; 0.0; 0.0; 0.0; 0.0;;; 0.0; 0.0; 0.0; 0.0;;; 0.0; 0.0; 0.0; 0.0;;; 0.0; 0.0; 0.0; 0.0;;; 0.0; 0.0; 0.0; 0.0;;; 0.0; 0.0; 0.0; 0.0;;; 0.0; 0.0; 0.0; 0.0;;; 0.0; 0.0; 0.0; 0.0;;; 0.0; 0.0; 0.0; 0.0;;; 0.0; 0.0; 0.0; 0.0;;; 0.0; 0.0; 0.0; 0.0;;; 0.0; 0.0; 0.0; 0.0;;; 0.0; 0.0; 0.0; 0.0;;; 0.0; 0.0; 0.0; 0.0;;; 0.0; 0.0; 0.0; 0.0;;; 0.0; 0.0; 0.0; 0.0;;; 0.0; 0.0; 0.0; 0.0;;; 0.0; 0.0; 0.0; 0.0;;; 0.0; 0.0; 0.0; 0.0;;; 0.0; 0.0; 0.0; 0.0;;; 0.0; 0.0; 0.0; 0.0;;; 0.0; 0.0; 0.0; 0.0;;; 0.0; 0.0; 0.0; 0.0;;; 0.0; 0.0; 0.0; 0.0;;; 0.0; 0.0; 0.0; 0.0;;; 0.0; 0.0; 0.0; 0.0;;; 0.0; 0.0; 0.0; 0.0;;; 0.0; 0.0; 0.0; 0.0;;; 0.0; 0.0; 0.0; 0.0;;; 0.0; 0.0; 0.0; 0.0;;; 0.0; 0.0; 0.0; 0.0;;; 0.0; 0.0; 0.0; 0.0;;; 0.0; 0.0; 0.0; 0.0;;; 0.0; 0.0; 0.0; 0.0;;; 0.0; 0.0; 0.0; 0.0;;; 0.0; 0.0; 0.0; 0.0;;; 0.0; 0.0; 0.0; 0.0;;; 0.0; 0.0; 0.0; 0.0;;; 0.0; 0.0; 0.0; 0.0;;; 0.0; 0.0; 0.0; 0.0;;; 0.0; 0.0; 0.0; 0.0;;; 0.0; 0.0; 0.0; 0.0;;; 1.0000000000000002; 1.0; 1.0; -0.0;;; 0.0; 0.0; 0.0; 0.0;;; 0.0; 0.0; 0.0; 1.0;;; 0.0; 0.0; 0.0; 0.0;;; 0.0; 0.0; 0.0; 0.0;;; 0.0; 0.0; 0.0; 0.0;;; 0.0; 0.0; 0.0; 0.0;;; 0.0; 0.0; 0.0; 0.0;;; 0.0; 0.0; 0.0; 0.0;;; 0.0; 0.0; 0.0; 0.0;;; 0.0; 0.0; 0.0; 0.0;;; 0.0; 0.0; 0.0; 0.0;;; 0.0; 0.0; 0.0; 0.0;;; 0.0; 0.0; 0.0; 0.0;;; 0.0; 0.0; 0.0; 0.0;;; 0.0; 0.0; 0.0; 0.0;;; 0.0; 0.0; 0.0; 0.0;;; 0.0; 0.0; 0.0; 0.0;;; 0.0; 0.0; 0.0; 0.0;;; 0.0; 0.0; 0.0; 0.0;;; 0.0; 0.0; 0.0; 0.0;;; 0.0; 0.0; 0.0; 0.0;;; 0.0; 0.0; 0.0; 0.0;;; 0.0; 0.0; 0.0; 0.0]\n",
            "[0.0; 0.0; 0.0; 0.0;;; 0.0; 0.0; 0.0; 0.0;;; 0.0; 0.0; 0.0; 0.0;;; 0.0; 0.0; 0.0; 0.0;;; 0.0; 0.0; 0.0; 0.0;;; 0.0; 0.0; 0.0; 0.0;;; 0.0; 0.0; 0.0; 0.0;;; 0.0; 0.0; 0.0; 0.0;;; 0.0; 0.0; 0.0; 0.0;;; 0.0; 0.0; 0.0; 0.0;;; 0.0; 0.0; 0.0; 0.0;;; 0.0; 0.0; 0.0; 0.0;;; 0.0; 0.0; 0.0; 0.0;;; 0.0; 0.0; 0.0; 0.0;;; 0.0; 0.0; 0.0; 0.0;;; 0.0; 0.0; 0.0; 0.0;;; 0.0; 0.0; 0.0; 0.0;;; 0.0; 0.0; 0.0; 0.0;;; 0.0; 0.0; 0.0; 0.0;;; 0.0; 0.0; 0.0; 0.0;;; 0.0; 0.0; 0.0; 0.0;;; 0.0; 0.0; 0.0; 0.0;;; 0.0; 0.0; 0.0; 0.0;;; 0.0; 0.0; 0.0; 0.0;;; 0.0; 0.0; 0.0; 0.0;;; 0.0; 0.0; 0.0; 0.0;;; 0.0; 0.0; 0.0; 0.0;;; 0.0; 0.0; 0.0; 0.0;;; 0.0; 0.0; 0.0; 0.0;;; 0.0; 0.0; 0.0; 0.0;;; 0.0; 0.0; 0.0; 0.0;;; 0.0; 0.0; 0.0; 0.0;;; 0.0; 0.0; 0.0; 0.0;;; 0.0; 0.0; 0.0; 0.0;;; 0.0; 0.0; 0.0; 0.0;;; 0.0; 0.0; 0.0; 0.0;;; 0.0; 0.0; 0.0; 0.0;;; 0.0; 0.0; 0.0; 0.0;;; 0.0; 0.0; 0.0; 0.0;;; 0.0; 0.0; 0.0; 0.0;;; 0.0; 0.0; 0.0; 0.0;;; 0.0; 0.0; 0.0; 0.0;;; 0.0; 0.0; 0.0; 0.0;;; 0.0; 0.0; 0.0; 0.0;;; 0.0; 0.0; 0.0; 0.0;;; 0.0; 0.0; 0.0; 0.0;;; 0.0; 0.0; 0.0; 0.0;;; 0.0; 0.0; 0.0; 0.0;;; 0.0; 0.0; 0.0; 0.0;;; 0.0; 0.0; 0.0; 0.0;;; -0.0; -2.220446049250313e-16; 1.0; 1.0;;; 0.0; 0.0; 0.0; 0.0;;; 1.0; 1.0; 0.0; -0.0;;; 0.0; 0.0; 0.0; 0.0;;; 0.0; 0.0; 0.0; 0.0;;; 0.0; 0.0; 0.0; 0.0;;; 0.0; 0.0; 0.0; 0.0;;; 0.0; 0.0; 0.0; 0.0;;; 0.0; 0.0; 0.0; 0.0;;; 0.0; 0.0; 0.0; 0.0;;; 0.0; 0.0; 0.0; 0.0;;; 0.0; 0.0; 0.0; 0.0;;; 0.0; 0.0; 0.0; 0.0;;; 0.0; 0.0; 0.0; 0.0;;; 0.0; 0.0; 0.0; 0.0;;; 0.0; 0.0; 0.0; 0.0;;; 0.0; 0.0; 0.0; 0.0;;; 0.0; 0.0; 0.0; 0.0;;; 0.0; 0.0; 0.0; 0.0;;; 0.0; 0.0; 0.0; 0.0;;; 0.0; 0.0; 0.0; 0.0;;; 0.0; 0.0; 0.0; 0.0;;; 0.0; 0.0; 0.0; 0.0]\n",
            "[0.0; 0.0; 0.0; 0.0;;; 0.0; 0.0; 0.0; 0.0;;; 0.0; 0.0; 0.0; 0.0;;; 0.0; 0.0; 0.0; 0.0;;; 0.0; 0.0; 0.0; 0.0;;; 0.0; 0.0; 0.0; 0.0;;; 0.0; 0.0; 0.0; 0.0;;; 0.0; 0.0; 0.0; 0.0;;; 0.0; 0.0; 0.0; 0.0;;; 0.0; 0.0; 0.0; 0.0;;; 0.0; 0.0; 0.0; 0.0;;; 0.0; 0.0; 0.0; 0.0;;; 0.0; 0.0; 0.0; 0.0;;; 0.0; 0.0; 0.0; 0.0;;; 0.0; 0.0; 0.0; 0.0;;; 0.0; 0.0; 0.0; 0.0;;; 0.0; 0.0; 0.0; 0.0;;; 0.0; 0.0; 0.0; 0.0;;; 0.0; 0.0; 0.0; 0.0;;; 0.0; 0.0; 0.0; 0.0;;; 0.0; 0.0; 0.0; 0.0;;; 0.0; 0.0; 0.0; 0.0;;; 0.0; 0.0; 0.0; 0.0;;; 0.0; 0.0; 0.0; 0.0;;; 0.0; 0.0; 0.0; 0.0;;; 0.0; 0.0; 0.0; 0.0;;; 0.0; 0.0; 0.0; 0.0;;; 0.0; 0.0; 0.0; 0.0;;; 0.0; 0.0; 0.0; 0.0;;; 0.0; 0.0; 0.0; 0.0;;; 0.0; 0.0; 0.0; 0.0;;; 0.0; 0.0; 0.0; 0.0;;; 0.0; 0.0; 0.0; 0.0;;; 0.0; 0.0; 0.0; 0.0;;; 0.0; 0.0; 0.0; 0.0;;; 0.0; 0.0; 0.0; 0.0;;; 0.0; 0.0; 0.0; 0.0;;; 0.0; 0.0; 0.0; 0.0;;; 0.0; 0.0; 0.0; 0.0;;; 0.0; 0.0; 0.0; 0.0;;; 0.0; 0.0; 0.0; 0.0;;; 0.0; 0.0; 0.0; 0.0;;; 0.0; 0.0; 0.0; 0.0;;; 0.0; 0.0; 0.0; 0.0;;; 0.0; 0.0; 0.0; 0.0;;; 0.0; 0.0; 0.0; 0.0;;; 0.0; 0.0; 0.0; 0.0;;; 0.0; 0.0; 0.0; 0.0;;; 0.0; 0.0; 0.0; 0.0;;; 0.0; 0.0; 0.0; 0.0;;; 0.0; 0.0; 0.0; 0.0;;; 2.2204460492503136e-16; -0.0; -0.0; 1.0;;; 0.0; 0.0; 0.0; 0.0;;; 0.9999999999999998; 1.0; 1.0; 0.0;;; 0.0; 0.0; 0.0; 0.0;;; 0.0; 0.0; 0.0; 0.0;;; 0.0; 0.0; 0.0; 0.0;;; 0.0; 0.0; 0.0; 0.0;;; 0.0; 0.0; 0.0; 0.0;;; 0.0; 0.0; 0.0; 0.0;;; 0.0; 0.0; 0.0; 0.0;;; 0.0; 0.0; 0.0; 0.0;;; 0.0; 0.0; 0.0; 0.0;;; 0.0; 0.0; 0.0; 0.0;;; 0.0; 0.0; 0.0; 0.0;;; 0.0; 0.0; 0.0; 0.0;;; 0.0; 0.0; 0.0; 0.0;;; 0.0; 0.0; 0.0; 0.0;;; 0.0; 0.0; 0.0; 0.0;;; 0.0; 0.0; 0.0; 0.0;;; 0.0; 0.0; 0.0; 0.0;;; 0.0; 0.0; 0.0; 0.0;;; 0.0; 0.0; 0.0; 0.0]\n",
            "[0.0; 0.0; 0.0; 0.0;;; 0.0; 0.0; 0.0; 0.0;;; 0.0; 0.0; 0.0; 0.0;;; 0.0; 0.0; 0.0; 0.0;;; 0.0; 0.0; 0.0; 0.0;;; 0.0; 0.0; 0.0; 0.0;;; 0.0; 0.0; 0.0; 0.0;;; 0.0; 0.0; 0.0; 0.0;;; 0.0; 0.0; 0.0; 0.0;;; 0.0; 0.0; 0.0; 0.0;;; 0.0; 0.0; 0.0; 0.0;;; 0.0; 0.0; 0.0; 0.0;;; 0.0; 0.0; 0.0; 0.0;;; 0.0; 0.0; 0.0; 0.0;;; 0.0; 0.0; 0.0; 0.0;;; 0.0; 0.0; 0.0; 0.0;;; 0.0; 0.0; 0.0; 0.0;;; 0.0; 0.0; 0.0; 0.0;;; 0.0; 0.0; 0.0; 0.0;;; 0.0; 0.0; 0.0; 0.0;;; 0.0; 0.0; 0.0; 0.0;;; 0.0; 0.0; 0.0; 0.0;;; 0.0; 0.0; 0.0; 0.0;;; 0.0; 0.0; 0.0; 0.0;;; 0.0; 0.0; 0.0; 0.0;;; 0.0; 0.0; 0.0; 0.0;;; 0.0; 0.0; 0.0; 0.0;;; 0.0; 0.0; 0.0; 0.0;;; 0.0; 0.0; 0.0; 0.0;;; 0.0; 0.0; 0.0; 0.0;;; 0.0; 0.0; 0.0; 0.0;;; 0.0; 0.0; 0.0; 0.0;;; 0.0; 0.0; 0.0; 0.0;;; 0.0; 0.0; 0.0; 0.0;;; 0.0; 0.0; 0.0; 0.0;;; 0.0; 0.0; 0.0; 0.0;;; 0.0; 0.0; 0.0; 0.0;;; 0.0; 0.0; 0.0; 0.0;;; 0.0; 0.0; 0.0; 0.0;;; 0.0; 0.0; 0.0; 0.0;;; 0.0; 0.0; 0.0; 0.0;;; 0.0; 0.0; 0.0; 0.0;;; 0.0; 0.0; 0.0; 0.0;;; 0.0; 0.0; 0.0; 0.0;;; 0.0; 0.0; 0.0; 0.0;;; 0.0; 0.0; 0.0; 0.0;;; 0.0; 0.0; 0.0; 0.0;;; 0.0; 0.0; 0.0; 0.0;;; 0.0; 0.0; 0.0; 0.0;;; 0.0; 0.0; 0.0; 0.0;;; 0.0; 0.0; 0.0; 0.0;;; 0.0; 0.0; 0.0; 0.0;;; -0.0; 0.0; -0.0; 0.0;;; 0.0; 0.0; 0.0; 0.0;;; 1.0; 1.0; 1.0; 1.0;;; 0.0; 0.0; 0.0; 0.0;;; 0.0; 0.0; 0.0; 0.0;;; 0.0; 0.0; 0.0; 0.0;;; 0.0; 0.0; 0.0; 0.0;;; 0.0; 0.0; 0.0; 0.0;;; 0.0; 0.0; 0.0; 0.0;;; 0.0; 0.0; 0.0; 0.0;;; 0.0; 0.0; 0.0; 0.0;;; 0.0; 0.0; 0.0; 0.0;;; 0.0; 0.0; 0.0; 0.0;;; 0.0; 0.0; 0.0; 0.0;;; 0.0; 0.0; 0.0; 0.0;;; 0.0; 0.0; 0.0; 0.0;;; 0.0; 0.0; 0.0; 0.0;;; 0.0; 0.0; 0.0; 0.0;;; 0.0; 0.0; 0.0; 0.0;;; 0.0; 0.0; 0.0; 0.0;;; 0.0; 0.0; 0.0; 0.0]\n"
          ]
        }
      ]
    },
    {
      "cell_type": "markdown",
      "metadata": {
        "id": "WvoSmXo2APTZ"
      },
      "source": [
        "# **Function for evaluation of learned policy on real objective function (not linearized one)**"
      ]
    },
    {
      "cell_type": "code",
      "execution_count": 16,
      "metadata": {
        "id": "pQeAB88YAaHR",
        "colab": {
          "base_uri": "https://localhost:8080/"
        },
        "outputId": "723b7104-88cb-48ad-ed5d-b2eb10dd2be3"
      },
      "outputs": [
        {
          "output_type": "execute_result",
          "data": {
            "text/plain": [
              "(Dict{Any, Any}(\"4\" => [3.0000000000004903; 3.0; 3.0; 2.99999999999951;;], \"1\" => [0.5000000000004903; 0.5; 1.5; 0.49999999999951017;;], \"12\" => [9.00000000000049; 9.0; 9.0; 8.99999999999951;;], \"2\" => [2.0000000000004907; 2.0; 1.0; 0.9999999999995102;;], \"6\" => [5.00000000000049; 5.0; 4.0; 3.99999999999951;;], \"11\" => [8.50000000000049; 8.5; 8.5; 7.49999999999951;;], \"5\" => [4.50000000000049; 3.5; 3.5; 3.49999999999951;;], \"7\" => [5.50000000000049; 5.5; 5.5; 4.49999999999951;;], \"8\" => [6.00000000000049; 6.0; 6.0; 5.99999999999951;;], \"10\" => [8.00000000000049; 8.0; 7.0; 6.99999999999951;;]…), 192876.25418141068)"
            ]
          },
          "metadata": {},
          "execution_count": 16
        }
      ],
      "source": [
        "function eval_non_convex_obj_fn(res_alloc_dec_var_dict, no_lrc, no_aa, no_m, state_init, demand_aa_mat, aaa, bbb, Len,\n",
        "                               cost_path, logistics_cost_weight, absolute_deprivation_cost_weight)\n",
        "  # computation of state variables for all time periods\n",
        "  dep_lvl_state_var_dict = Dict()\n",
        "  dep_lvl_state_var_dict[\"0\"] = state_init\n",
        "\n",
        "  for i in 1 : no_time_periods\n",
        "    state_app = zeros(no_aa, no_m)\n",
        "    for j in 1 : no_aa\n",
        "      for k in 1 : no_m\n",
        "        state_app[j, k] = dep_lvl_state_var_dict[\"$(i - 1)\"][j, k] - sum(res_alloc_dec_var_dict[\"$i\"][j, k, l] for l in 1 : no_lrc) + demand_aa_mat[j, k]\n",
        "      end\n",
        "    end\n",
        "    dep_lvl_state_var_dict[\"$i\"] = state_app\n",
        "  end\n",
        "\n",
        "  # calculation of deprivation cost\n",
        "  dep_cost_sum = 0                                            # Before calculating the total deprivation cost, the class attribute \"deprivation cost\" is set to \"0\".\n",
        "  for (s_keys, state_dict_temp) in dep_lvl_state_var_dict\n",
        "\n",
        "    counter = 0\n",
        "    for i in 1 : no_aa                                               # This for loop loops through all the affected areas and calculate the total deprivation cost.\n",
        "      for j in 1 : no_m\n",
        "        if (state_dict_temp[i, j] >= 0)                                                                   # It the state value of the affected area is greater then or equal to \"0\" then the formula below is used.\n",
        "          dep_cost_sum = dep_cost_sum + exp(aaa[i, j]) * (exp(bbb[i, j] * Len) - 1) * (exp(bbb[i, j] * Len) ^ state_dict_temp[i, j])                        # This formula is used to calculate the deprivation cost for a particular Affected Area, given a particular state value of that Affected Area.\n",
        "        else\n",
        "          dep_cost_sum = dep_cost_sum                                                                 # If the state value of the Affected Area is less then \"0\" then the deprivation cost of that affected area will be set to \"0\".\n",
        "        end\n",
        "      end\n",
        "      counter = counter + 1\n",
        "    end\n",
        "\n",
        "  end\n",
        "\n",
        "  # logistics cost\n",
        "  log_cost = 0\n",
        "  for i in 1 : no_time_periods\n",
        "    for j in 1 : no_aa\n",
        "      for k in 1 : no_m\n",
        "        for l in 1 : no_lrc\n",
        "          log_cost = log_cost + cost_path[j, k, l] * res_alloc_dec_var_dict[\"$i\"][j, k, l]\n",
        "        end\n",
        "      end\n",
        "    end\n",
        "  end\n",
        "\n",
        "  return dep_lvl_state_var_dict, absolute_deprivation_cost_weight * dep_cost_sum + logistics_cost_weight * log_cost\n",
        "end\n",
        "\n",
        "dep_lvl_state_var_dict, real_obj_val = eval_non_convex_obj_fn(res_alloc_dec_var_dict, no_lrc, no_aa, no_m, reshape([0 for i in 1 : no_aa * no_m], (no_aa, no_m)), demand_aa_mat, aaa, bbb, Len, cost_path, logistics_cost_weight, absolute_deprivation_cost_weight)"
      ]
    },
    {
      "cell_type": "code",
      "execution_count": 17,
      "metadata": {
        "id": "NPc7euC9iShO",
        "colab": {
          "base_uri": "https://localhost:8080/"
        },
        "outputId": "d6b7f743-fce2-411c-f35e-0ac769bfb17b"
      },
      "outputs": [
        {
          "output_type": "stream",
          "name": "stdout",
          "text": [
            "[0; 0; 0; 0;;]\n",
            "[0.5000000000004903; 0.5; 1.5; 0.49999999999951017;;]\n",
            "[2.0000000000004907; 2.0; 1.0; 0.9999999999995102;;]\n",
            "[1.5000000000004903; 2.5; 2.5; 2.49999999999951;;]\n",
            "[3.0000000000004903; 3.0; 3.0; 2.99999999999951;;]\n",
            "[4.50000000000049; 3.5; 3.5; 3.49999999999951;;]\n",
            "[5.00000000000049; 5.0; 4.0; 3.99999999999951;;]\n",
            "[5.50000000000049; 5.5; 5.5; 4.49999999999951;;]\n",
            "[6.00000000000049; 6.0; 6.0; 5.99999999999951;;]\n",
            "[6.50000000000049; 6.5; 6.5; 7.49999999999951;;]\n",
            "[8.00000000000049; 8.0; 7.0; 6.99999999999951;;]\n",
            "[8.50000000000049; 8.5; 8.5; 7.49999999999951;;]\n",
            "[9.00000000000049; 9.0; 9.0; 8.99999999999951;;]\n"
          ]
        }
      ],
      "source": [
        "CSV.write(filePath, DataFrame([[\"-\"], [\"-\"], [\"-\"], [\"-\"], [\"-\"], [\"-\"], [\"-\"], [\"-\"], [\"-\"], [\"-\"], [\"-\"], [\"-\"], [\"-\"], [\"-\"], [\"-\"], [\"-\"], [\"-\"], [\"-\"], [\"-\"], [\"-\"], ], :auto), append = true)\n",
        "CSV.write(filePath, DataFrame([[\"\\n\"]], :auto), append = true)\n",
        "CSV.write(filePath, DataFrame([[\"Deprivation Levels of Affected Areas (State Variables):\"]], :auto), append = true)\n",
        "\n",
        "for i in 0 : no_time_periods\n",
        "  println(dep_lvl_state_var_dict[\"$(i)\"])\n",
        "  CSV.write(filePath, DataFrame([[round(dep_lvl_state_var_dict[\"$(i)\"][j], digits = 1)] for j in 1 : no_aa * no_m], :auto), append = true)\n",
        "end"
      ]
    },
    {
      "cell_type": "code",
      "execution_count": 18,
      "metadata": {
        "id": "26HY2MDniNIV",
        "colab": {
          "base_uri": "https://localhost:8080/"
        },
        "outputId": "eb3039f2-4fdc-4fc5-8c3b-23707b1707a4"
      },
      "outputs": [
        {
          "output_type": "execute_result",
          "data": {
            "text/plain": [
              "192876.25418141068"
            ]
          },
          "metadata": {},
          "execution_count": 18
        }
      ],
      "source": [
        "CSV.write(filePath, DataFrame([[\"\\n\"]], :auto), append = true)\n",
        "CSV.write(filePath, DataFrame([[\"Total Objective Value: \"], [real_obj_val]], :auto), append = true)\n",
        "real_obj_val"
      ]
    },
    {
      "cell_type": "code",
      "source": [
        "real_obj_val"
      ],
      "metadata": {
        "colab": {
          "base_uri": "https://localhost:8080/"
        },
        "id": "-pZH-IOhsOIY",
        "outputId": "c3821139-73d2-4b12-ce76-d98422241ea0"
      },
      "execution_count": 19,
      "outputs": [
        {
          "output_type": "execute_result",
          "data": {
            "text/plain": [
              "192876.25418141068"
            ]
          },
          "metadata": {},
          "execution_count": 19
        }
      ]
    },
    {
      "cell_type": "markdown",
      "metadata": {
        "id": "cK5pEJOfXVtW"
      },
      "source": [
        "# **Evaluation of Solution from Julia language in Python language (by running python program in Julia)**"
      ]
    },
    {
      "cell_type": "code",
      "execution_count": null,
      "metadata": {
        "id": "FLinbrobXU2b"
      },
      "outputs": [],
      "source": [
        "using PyCall\n",
        "\n",
        "py\"\"\"\n",
        "from math import exp\n",
        "import numpy as np\n",
        "\n",
        "def eval_non_convex_obj_fn(dep_lvl_state_var_dict, res_alloc_dec_var_dict, no_time_periods, no_lrc, no_aa, no_m, aaa, bbb, Len,\n",
        "                               cost_path, logistics_cost_weight, absolute_deprivation_cost_weight):\n",
        "\n",
        "  dep_lvl_state_var_dict = np.array(dep_lvl_state_var_dict)\n",
        "  res_alloc_dec_var_dict = np.array(res_alloc_dec_var_dict)\n",
        "\n",
        "  res_alloc_dec_var_dict = res_alloc_dec_var_dict\n",
        "  aaa = np.array(aaa).reshape(no_aa, no_m)\n",
        "  bbb = np.array(bbb).reshape(no_aa, no_m)\n",
        "  cost_path = np.array(cost_path).reshape(no_time_periods, no_aa, no_m, no_lrc)\n",
        "\n",
        "  # calculation of deprivation cost\n",
        "  dep_cost_sum = 0                                            # Before calculating the total deprivation cost, the class attribute \"deprivation cost\" is set to \"0\".\n",
        "  for state_dict_temp in dep_lvl_state_var_dict:\n",
        "    for i in range(0, no_aa):                                               # This for loop loops through all the affected areas and calculate the total deprivation cost.\n",
        "      for j in range(0, no_m):\n",
        "        if (state_dict_temp[i, j] >= 0):                                                                   # It the state value of the affected area is greater then or equal to \"0\" then the formula below is used.\n",
        "          dep_cost_sum = dep_cost_sum + exp(aaa[i, j]) * (exp(bbb[i, j] * Len) - 1) * (exp(bbb[i, j] * Len) ** state_dict_temp[i, j])                        # This formula is used to calculate the deprivation cost for a particular Affected Area, given a particular state value of that Affected Area.\n",
        "        else:\n",
        "          dep_cost_sum = dep_cost_sum                                                                 # If the state value of the Affected Area is less then \"0\" then the deprivation cost of that affected area will be set to \"0\".\n",
        "\n",
        "  # logistics cost\n",
        "  log_cost = 0\n",
        "  for i in range(0, no_time_periods):\n",
        "    for j in range(0, no_aa):\n",
        "      for k in range(0, no_m):\n",
        "        for l in range(0, no_lrc):\n",
        "          log_cost = log_cost + cost_path[i, j, k, l] * res_alloc_dec_var_dict[i, j, k, l]\n",
        "\n",
        "  return absolute_deprivation_cost_weight * dep_cost_sum + logistics_cost_weight * log_cost\n",
        "\"\"\""
      ]
    },
    {
      "cell_type": "code",
      "execution_count": null,
      "metadata": {
        "colab": {
          "base_uri": "https://localhost:8080/",
          "height": 609
        },
        "id": "nuoPiJE8Yte0",
        "outputId": "158b9b79-4b4d-494e-cecf-16f22725e21f"
      },
      "outputs": [
        {
          "ename": "LoadError",
          "evalue": "ignored",
          "output_type": "error",
          "traceback": [
            "PyError ($(Expr(:escape, :(ccall(#= /root/.julia/packages/PyCall/ilqDX/src/pyfncall.jl:43 =# @pysym(:PyObject_Call), PyPtr, (PyPtr, PyPtr, PyPtr), o, pyargsptr, kw))))) <class 'IndexError'>\nIndexError('too many indices for array: array is 1-dimensional, but 4 were indexed')\n  File \"/root/.julia/packages/PyCall/ilqDX/src/pyeval.jl\", line 31, in eval_non_convex_obj_fn\n    # and a current \"file name\" to use for stack traces\n",
            "",
            "Stacktrace:",
            "  [1] pyerr_check",
            "    @ ~/.julia/packages/PyCall/ilqDX/src/exception.jl:75 [inlined]",
            "  [2] pyerr_check",
            "    @ ~/.julia/packages/PyCall/ilqDX/src/exception.jl:79 [inlined]",
            "  [3] _handle_error(msg::String)",
            "    @ PyCall ~/.julia/packages/PyCall/ilqDX/src/exception.jl:96",
            "  [4] macro expansion",
            "    @ ~/.julia/packages/PyCall/ilqDX/src/exception.jl:110 [inlined]",
            "  [5] #107",
            "    @ ~/.julia/packages/PyCall/ilqDX/src/pyfncall.jl:43 [inlined]",
            "  [6] disable_sigint",
            "    @ ./c.jl:473 [inlined]",
            "  [7] __pycall!",
            "    @ ~/.julia/packages/PyCall/ilqDX/src/pyfncall.jl:42 [inlined]",
            "  [8] _pycall!(ret::PyObject, o::PyObject, args::Tuple{Vector{Any}, Vector{Any}, Int64, Int64, Int64, Int64, Matrix{Float64}, Matrix{Float64}, Int64, Array{Int64, 4}, Float64, Float64}, nargs::Int64, kw::Ptr{Nothing})",
            "    @ PyCall ~/.julia/packages/PyCall/ilqDX/src/pyfncall.jl:29",
            "  [9] _pycall!(ret::PyObject, o::PyObject, args::Tuple{Vector{Any}, Vector{Any}, Int64, Int64, Int64, Int64, Matrix{Float64}, Matrix{Float64}, Int64, Array{Int64, 4}, Float64, Float64}, kwargs::Base.Pairs{Symbol, Union{}, Tuple{}, NamedTuple{(), Tuple{}}})",
            "    @ PyCall ~/.julia/packages/PyCall/ilqDX/src/pyfncall.jl:11",
            " [10] (::PyObject)(::Vector{Any}, ::Vararg{Any}; kwargs::Base.Pairs{Symbol, Union{}, Tuple{}, NamedTuple{(), Tuple{}}})",
            "    @ PyCall ~/.julia/packages/PyCall/ilqDX/src/pyfncall.jl:86",
            " [11] (::PyObject)(::Vector{Any}, ::Vararg{Any})",
            "    @ PyCall ~/.julia/packages/PyCall/ilqDX/src/pyfncall.jl:86",
            " [12] top-level scope",
            "    @ ~/.julia/packages/PyCall/ilqDX/src/pyeval.jl:232"
          ]
        }
      ],
      "source": [
        "dep_lvl_state_var_dict = collect(values(dep_lvl_state_var_dict))\n",
        "res_alloc_dec_var_dict = collect(values(res_alloc_dec_var_dict))\n",
        "\n",
        "real_obj_val = py\"eval_non_convex_obj_fn\"(dep_lvl_state_var_dict, res_alloc_dec_var_dict, no_time_periods, no_lrc, no_aa, no_m, aaa, bbb, Len,\n",
        "                                                                    cost_path, 1 / 3, 1 / 3)\n",
        "\n",
        "# some how it is not working as it is giving incorrect results"
      ]
    },
    {
      "cell_type": "code",
      "execution_count": null,
      "metadata": {
        "colab": {
          "base_uri": "https://localhost:8080/"
        },
        "id": "oCnB_unjVj-J",
        "outputId": "3fe9fe40-ae18-47b3-813d-9762644679b2"
      },
      "outputs": [
        {
          "data": {
            "text/plain": [
              "Any[]"
            ]
          },
          "execution_count": 14,
          "metadata": {},
          "output_type": "execute_result"
        }
      ],
      "source": [
        "res_alloc_dec_var_dict"
      ]
    }
  ],
  "metadata": {
    "colab": {
      "collapsed_sections": [
        "pCEdk0VmLcZQ",
        "7W94Ew28Glv3",
        "g3fPQnq-Ljdc",
        "zyWTen2fle6R",
        "jeF8x6VtLpLG",
        "_ZtxqgrILxbL",
        "WvoSmXo2APTZ",
        "cK5pEJOfXVtW"
      ],
      "provenance": []
    },
    "kernelspec": {
      "display_name": "Julia",
      "language": "julia",
      "name": "julia"
    },
    "language_info": {
      "file_extension": ".jl",
      "mimetype": "application/julia",
      "name": "julia"
    }
  },
  "nbformat": 4,
  "nbformat_minor": 0
}